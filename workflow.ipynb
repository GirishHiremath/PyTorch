{
 "cells": [
  {
   "cell_type": "code",
   "execution_count": 1,
   "metadata": {},
   "outputs": [
    {
     "data": {
      "text/plain": [
       "'1.13.1+cu117'"
      ]
     },
     "execution_count": 1,
     "metadata": {},
     "output_type": "execute_result"
    }
   ],
   "source": [
    "import torch\n",
    "from torch import nn \n",
    "import matplotlib.pyplot as plt\n",
    "\n",
    "torch.__version__"
   ]
  },
  {
   "cell_type": "code",
   "execution_count": 2,
   "metadata": {},
   "outputs": [],
   "source": [
    "#Data preparing and loading\n",
    "#Data can be almost anything ...... in machine learning\n",
    "\n",
    "#1.Excel Spreadsheet\n",
    "#2.Images of any kind\n",
    "#3.Videos (youtube as a lot of data)\n",
    "#4.Audios like songs and podcasts\n",
    "#5.DNA \n",
    "#6.Text\n",
    "\n",
    "#Machine learning is a game of two parts:\n",
    "#1.Get data into a numerical representaion\n",
    "#2.Build a model to learn patterns in that numerical representations"
   ]
  },
  {
   "cell_type": "code",
   "execution_count": 3,
   "metadata": {},
   "outputs": [
    {
     "data": {
      "text/plain": [
       "(tensor([[0.0000],\n",
       "         [0.0200],\n",
       "         [0.0400],\n",
       "         [0.0600],\n",
       "         [0.0800],\n",
       "         [0.1000],\n",
       "         [0.1200],\n",
       "         [0.1400],\n",
       "         [0.1600],\n",
       "         [0.1800]]),\n",
       " tensor([[0.3000],\n",
       "         [0.3140],\n",
       "         [0.3280],\n",
       "         [0.3420],\n",
       "         [0.3560],\n",
       "         [0.3700],\n",
       "         [0.3840],\n",
       "         [0.3980],\n",
       "         [0.4120],\n",
       "         [0.4260]]),\n",
       " 50,\n",
       " 50)"
      ]
     },
     "execution_count": 3,
     "metadata": {},
     "output_type": "execute_result"
    }
   ],
   "source": [
    "#create a known parameter\n",
    "weight=0.7\n",
    "bias=0.3\n",
    "start=0\n",
    "end=1\n",
    "step=0.02\n",
    "\n",
    "X=torch.arange(start,end,step).unsqueeze(dim=1)\n",
    "Y=weight * X + bias\n",
    "\n",
    "X[:10],Y[:10],len(X),len(Y)\n"
   ]
  },
  {
   "cell_type": "code",
   "execution_count": 4,
   "metadata": {},
   "outputs": [
    {
     "data": {
      "text/plain": [
       "(40, 40, 10, 10)"
      ]
     },
     "execution_count": 4,
     "metadata": {},
     "output_type": "execute_result"
    }
   ],
   "source": [
    "#Splitting data into training and test sets\n",
    "train_split=int(0.8*len(X))\n",
    "X_train,Y_train=X[:train_split],Y[:train_split]\n",
    "X_test,Y_test=X[train_split:],Y[train_split:]\n",
    "len(X_train),len(Y_train),len(X_test),len(Y_test)"
   ]
  },
  {
   "cell_type": "code",
   "execution_count": 5,
   "metadata": {},
   "outputs": [
    {
     "data": {
      "image/png": "[encoded data removed]",
      "text/plain": [
       "<Figure size 720x504 with 1 Axes>"
      ]
     },
     "metadata": {
      "needs_background": "light"
     },
     "output_type": "display_data"
    }
   ],
   "source": [
    "#Visualization\n",
    "def plot_prediction(train_data=X_train,\n",
    "                    train_labels=Y_train,\n",
    "                    test_data=X_test,\n",
    "                    test_labels=Y_test,\n",
    "                    predictions=None):\n",
    "    plt.figure(figsize=(10,7))\n",
    "\n",
    "    #Plot training data in blue\n",
    "    plt.scatter(train_data,train_labels,c=\"b\",s=4,label=\"Training data\")\n",
    "\n",
    "    #plot testing data in green\n",
    "    plt.scatter(test_data,test_labels,c=\"g\",s=5,label=\"Testing data\")\n",
    "\n",
    "    #are there predictions?\n",
    "    if predictions is not None:\n",
    "        plt.scatter(test_data,predictions, c=\"r\",s=5,label=\"predictions\")\n",
    "    \n",
    "    plt.legend(prop={\"size\":14})\n",
    "\n",
    "plot_prediction()\n",
    "\n",
    "\n",
    "    \n",
    "    \n",
    "        "
   ]
  },
  {
   "cell_type": "code",
   "execution_count": 6,
   "metadata": {},
   "outputs": [],
   "source": [
    "#Building the Model\n",
    "from torch import nn\n",
    "\n",
    "class LinerRegression(nn.Module): #allmost everything in pytorch inherites form nn.Module\n",
    "    def __init__(self):\n",
    "        super().__init__()\n",
    "        self.weights=nn.Parameter(torch.randn(1,\n",
    "                                  requires_grad=True,\n",
    "                                  dtype=torch.float))\n",
    "\n",
    "        self.bias=nn.Parameter(torch.randn(1,\n",
    "                                            requires_grad=True,\n",
    "                                            dtype=torch.float))\n",
    "\n",
    "        #Forward method to define the computation in the model\n",
    "    def forward(self,x: torch.Tensor)->torch.Tensor:\n",
    "        return self.weights * x + self.bias\n",
    "\n",
    "    "
   ]
  },
  {
   "cell_type": "code",
   "execution_count": 7,
   "metadata": {},
   "outputs": [
    {
     "data": {
      "text/plain": [
       "OrderedDict([('weights', tensor([0.3367])), ('bias', tensor([0.1288]))])"
      ]
     },
     "execution_count": 7,
     "metadata": {},
     "output_type": "execute_result"
    }
   ],
   "source": [
    "#create a random seed\n",
    "torch.manual_seed(42)\n",
    "\n",
    "model_0=LinerRegression()\n",
    "model_0\n",
    "list(model_0.parameters())\n",
    "model_0.state_dict()"
   ]
  },
  {
   "cell_type": "code",
   "execution_count": 8,
   "metadata": {},
   "outputs": [
    {
     "data": {
      "text/plain": [
       "tensor([[0.8600],\n",
       "        [0.8740],\n",
       "        [0.8880],\n",
       "        [0.9020],\n",
       "        [0.9160],\n",
       "        [0.9300],\n",
       "        [0.9440],\n",
       "        [0.9580],\n",
       "        [0.9720],\n",
       "        [0.9860]])"
      ]
     },
     "execution_count": 8,
     "metadata": {},
     "output_type": "execute_result"
    }
   ],
   "source": [
    "Y_test"
   ]
  },
  {
   "cell_type": "code",
   "execution_count": 9,
   "metadata": {},
   "outputs": [
    {
     "data": {
      "text/plain": [
       "tensor([[0.3982],\n",
       "        [0.4049],\n",
       "        [0.4116],\n",
       "        [0.4184],\n",
       "        [0.4251],\n",
       "        [0.4318],\n",
       "        [0.4386],\n",
       "        [0.4453],\n",
       "        [0.4520],\n",
       "        [0.4588]])"
      ]
     },
     "execution_count": 9,
     "metadata": {},
     "output_type": "execute_result"
    }
   ],
   "source": [
    "#Making predictions using torch.inference_mode()\n",
    "#to check our model's predictive power,let's see how well it predicts y_test based on x_test\n",
    "#when we pass data through our model,it's going to run it through the forward() method.\n",
    "\n",
    "#make predictions with model\n",
    "with torch.inference_mode():\n",
    "    y_preds=model_0(X_test)\n",
    "#or you can same as with torch.no_grad(), however, inference mode is preferred \n",
    "with torch.no_grad():\n",
    "    y_preds=model_0(X_test)\n",
    "y_preds\n"
   ]
  },
  {
   "cell_type": "code",
   "execution_count": 10,
   "metadata": {},
   "outputs": [
    {
     "data": {
      "image/png": "[encoded data removed]",
      "text/plain": [
       "<Figure size 720x504 with 1 Axes>"
      ]
     },
     "metadata": {
      "needs_background": "light"
     },
     "output_type": "display_data"
    }
   ],
   "source": [
    "plot_prediction(predictions=y_preds)"
   ]
  },
  {
   "cell_type": "code",
   "execution_count": 11,
   "metadata": {},
   "outputs": [],
   "source": [
    "#Model training\n",
    "#The whole idea of training is for a model to move form some *Unknown* parameters(these may be random) to some known parameters\n",
    "\n",
    "#or in other words from poor representation of the data to better representation of the data\n",
    "\n",
    "# one way to measure how poor or how wrong your models predictions are is to use loss functions \n",
    "\n",
    "#Note: Loss function may also be called cost function or criterion in different areas. For our case,we're  going to refer to it as loss function.\n",
    "\n",
    "#Loss Function: A Function to measure how wrong  your model's predictions are to the ideal outputs, lower is better.\n",
    "\n",
    "#Optimizer: Takes into account the loss of the model and adjusts the model's parameters(e.g:weight and bias in our case) to improve the loss function.\n",
    "\n",
    "#And specifically for Pytorch, we need:\n",
    "#Training loop\n",
    "#Testing loop"
   ]
  },
  {
   "cell_type": "code",
   "execution_count": 12,
   "metadata": {},
   "outputs": [
    {
     "data": {
      "text/plain": [
       "L1Loss()"
      ]
     },
     "execution_count": 12,
     "metadata": {},
     "output_type": "execute_result"
    }
   ],
   "source": [
    "#Setup Loss function \n",
    "loss_fn=nn.L1Loss()\n",
    "loss_fn"
   ]
  },
  {
   "cell_type": "code",
   "execution_count": 13,
   "metadata": {},
   "outputs": [
    {
     "data": {
      "text/plain": [
       "SGD (\n",
       "Parameter Group 0\n",
       "    dampening: 0\n",
       "    differentiable: False\n",
       "    foreach: None\n",
       "    lr: 0.01\n",
       "    maximize: False\n",
       "    momentum: 0\n",
       "    nesterov: False\n",
       "    weight_decay: 0\n",
       ")"
      ]
     },
     "execution_count": 13,
     "metadata": {},
     "output_type": "execute_result"
    }
   ],
   "source": [
    "optimizer=torch.optim.SGD(params=model_0.parameters(),\n",
    "                            lr=0.01)\n",
    "                            #learning rate\n",
    "optimizer"
   ]
  },
  {
   "cell_type": "code",
   "execution_count": 14,
   "metadata": {},
   "outputs": [],
   "source": [
    "#Building the training loop and testing loop in pytorch\n",
    "\n",
    "#A couple of things we need in training loop:\n",
    "\n",
    "#0.Loop through the data\n",
    "#1.Forward pass(this involves data moving through our models forward()  functions) to make predictions on data also called forward propagation\n",
    "#3.Calculate the loss(compare forward pass predictions to ground truth labels)\n",
    "#4.Loss Backward-move backwards through the network to calculate the gradients of each of the parameters of our model with respect to loss(backpropgation)\n",
    "#5.Optimizer step-use the optimizer to adjust our model's parameters to try and improve the loss(gradient descent)\n"
   ]
  },
  {
   "cell_type": "code",
   "execution_count": 15,
   "metadata": {},
   "outputs": [
    {
     "name": "stdout",
     "output_type": "stream",
     "text": [
      "Epoch:0| Training loss:0.31288138031959534|Test loss:0.48106518387794495\n",
      "OrderedDict([('weights', tensor([0.3406])), ('bias', tensor([0.1388]))])\n",
      "Epoch:10| Training loss:0.1976713240146637|Test loss:0.3463551998138428\n",
      "OrderedDict([('weights', tensor([0.3796])), ('bias', tensor([0.2388]))])\n",
      "Epoch:20| Training loss:0.08908725529909134|Test loss:0.21729660034179688\n",
      "OrderedDict([('weights', tensor([0.4184])), ('bias', tensor([0.3333]))])\n",
      "Epoch:30| Training loss:0.053148526698350906|Test loss:0.14464017748832703\n",
      "OrderedDict([('weights', tensor([0.4512])), ('bias', tensor([0.3768]))])\n",
      "Epoch:40| Training loss:0.04543796554207802|Test loss:0.11360953003168106\n",
      "OrderedDict([('weights', tensor([0.4748])), ('bias', tensor([0.3868]))])\n",
      "Epoch:50| Training loss:0.04167863354086876|Test loss:0.09919948130846024\n",
      "OrderedDict([('weights', tensor([0.4938])), ('bias', tensor([0.3843]))])\n",
      "Epoch:60| Training loss:0.03818932920694351|Test loss:0.08886633068323135\n",
      "OrderedDict([('weights', tensor([0.5116])), ('bias', tensor([0.3788]))])\n",
      "Epoch:70| Training loss:0.03476089984178543|Test loss:0.0805937647819519\n",
      "OrderedDict([('weights', tensor([0.5288])), ('bias', tensor([0.3718]))])\n",
      "Epoch:80| Training loss:0.03132382780313492|Test loss:0.07232122868299484\n",
      "OrderedDict([('weights', tensor([0.5459])), ('bias', tensor([0.3648]))])\n",
      "Epoch:90| Training loss:0.02788739837706089|Test loss:0.06473556160926819\n",
      "OrderedDict([('weights', tensor([0.5629])), ('bias', tensor([0.3573]))])\n",
      "Epoch:100| Training loss:0.024458957836031914|Test loss:0.05646304413676262\n",
      "OrderedDict([('weights', tensor([0.5800])), ('bias', tensor([0.3503]))])\n",
      "Epoch:110| Training loss:0.021020207554101944|Test loss:0.04819049686193466\n",
      "OrderedDict([('weights', tensor([0.5972])), ('bias', tensor([0.3433]))])\n",
      "Epoch:120| Training loss:0.01758546568453312|Test loss:0.04060482233762741\n",
      "OrderedDict([('weights', tensor([0.6141])), ('bias', tensor([0.3358]))])\n",
      "Epoch:130| Training loss:0.014155393466353416|Test loss:0.03233227878808975\n",
      "OrderedDict([('weights', tensor([0.6313])), ('bias', tensor([0.3288]))])\n",
      "Epoch:140| Training loss:0.010716589167714119|Test loss:0.024059748277068138\n",
      "OrderedDict([('weights', tensor([0.6485])), ('bias', tensor([0.3218]))])\n",
      "Epoch:150| Training loss:0.0072835334576666355|Test loss:0.016474086791276932\n",
      "OrderedDict([('weights', tensor([0.6654])), ('bias', tensor([0.3143]))])\n",
      "Epoch:160| Training loss:0.0038517764769494534|Test loss:0.008201557211577892\n",
      "OrderedDict([('weights', tensor([0.6826])), ('bias', tensor([0.3073]))])\n",
      "Epoch:170| Training loss:0.008932482451200485|Test loss:0.005023092031478882\n",
      "OrderedDict([('weights', tensor([0.6951])), ('bias', tensor([0.2993]))])\n",
      "Epoch:180| Training loss:0.008932482451200485|Test loss:0.005023092031478882\n",
      "OrderedDict([('weights', tensor([0.6951])), ('bias', tensor([0.2993]))])\n",
      "Epoch:190| Training loss:0.008932482451200485|Test loss:0.005023092031478882\n",
      "OrderedDict([('weights', tensor([0.6951])), ('bias', tensor([0.2993]))])\n"
     ]
    }
   ],
   "source": [
    "torch.manual_seed(42)\n",
    "#An epoch is loop through the data.....(this is hyperparameter because we've set)\n",
    "epochs=200\n",
    "epoch_count=[]\n",
    "training_loss=[]\n",
    "testing_loss=[]\n",
    "\n",
    "#Training \n",
    "#0. Loop through the data\n",
    "for epoch in range(epochs):\n",
    "    #set the model to traing mode\n",
    "    model_0.train() #train mode in pytorch sets all parameters that requires gradients to require gradients\n",
    "\n",
    "    #1.Forward pass\n",
    "    y_pred = model_0(X_train)\n",
    "\n",
    "    #2.Calculate the loss \n",
    "    loss = loss_fn(y_pred,Y_train)\n",
    "    #print(f'Loss:{loss}')\n",
    "\n",
    "    #3.Optimizer zero grad\n",
    "    optimizer.zero_grad()\n",
    "\n",
    "    #4.Perform backpropgation on this loss with respect to the parameters of the model\n",
    "    loss.backward()\n",
    "\n",
    "    #5.Step the optimizer (perform gradient descent)\n",
    "    optimizer.step()#by default how the optimizer changes will acculumate through the loop so.... we have to zero then above in step3 for the next iteration of the loop \n",
    "\n",
    "\n",
    "\n",
    "    #Testing\n",
    "    model_0.eval() #turns off different settings in the model not needed for evaluation/testing(dropout/batch norm layers)\n",
    "    with torch.inference_mode(): #turns off gradient tracking and couple more things behind the scenes\n",
    "        #1. do the Forward pass\n",
    "        test_pred=model_0(X_test)\n",
    "\n",
    "        #2. calculate the loss\n",
    "        test_loss=loss_fn(test_pred,Y_test)\n",
    "\n",
    "    if epoch % 10==0:\n",
    "        epoch_count.append(epoch)\n",
    "        training_loss.append(loss)\n",
    "        testing_loss.append(test_loss)\n",
    "        print(f'Epoch:{epoch}| Training loss:{loss}|Test loss:{test_loss}')\n",
    "        print(model_0.state_dict())\n"
   ]
  },
  {
   "cell_type": "code",
   "execution_count": 16,
   "metadata": {},
   "outputs": [
    {
     "data": {
      "text/plain": [
       "<matplotlib.legend.Legend at 0x7efead463640>"
      ]
     },
     "execution_count": 16,
     "metadata": {},
     "output_type": "execute_result"
    },
    {
     "data": {
      "image/png": "[encoded data removed]",
      "text/plain": [
       "<Figure size 432x288 with 1 Axes>"
      ]
     },
     "metadata": {
      "needs_background": "light"
     },
     "output_type": "display_data"
    }
   ],
   "source": [
    "import numpy as np\n",
    "plt.plot(epoch_count,np.array(torch.Tensor(training_loss).numpy()),label=\"Train loss\")\n",
    "plt.plot(epoch_count,testing_loss,label=\"Test Loss\")\n",
    "plt.title(\"Tarining and test loss curve\")\n",
    "plt.ylabel(\"loss\")\n",
    "plt.xlabel(\"Epochs\")\n",
    "plt.legend()"
   ]
  },
  {
   "cell_type": "code",
   "execution_count": 17,
   "metadata": {},
   "outputs": [
    {
     "data": {
      "text/plain": [
       "array([0.31288138, 0.19767132, 0.08908726, 0.05314853, 0.04543797,\n",
       "       0.04167863, 0.03818933, 0.0347609 , 0.03132383, 0.0278874 ,\n",
       "       0.02445896, 0.02102021, 0.01758547, 0.01415539, 0.01071659,\n",
       "       0.00728353, 0.00385178, 0.00893248, 0.00893248, 0.00893248],\n",
       "      dtype=float32)"
      ]
     },
     "execution_count": 17,
     "metadata": {},
     "output_type": "execute_result"
    }
   ],
   "source": [
    "import numpy as np\n",
    "np.array(torch.Tensor(training_loss).numpy())"
   ]
  },
  {
   "cell_type": "code",
   "execution_count": 18,
   "metadata": {},
   "outputs": [
    {
     "data": {
      "text/plain": [
       "[tensor(0.4811),\n",
       " tensor(0.3464),\n",
       " tensor(0.2173),\n",
       " tensor(0.1446),\n",
       " tensor(0.1136),\n",
       " tensor(0.0992),\n",
       " tensor(0.0889),\n",
       " tensor(0.0806),\n",
       " tensor(0.0723),\n",
       " tensor(0.0647),\n",
       " tensor(0.0565),\n",
       " tensor(0.0482),\n",
       " tensor(0.0406),\n",
       " tensor(0.0323),\n",
       " tensor(0.0241),\n",
       " tensor(0.0165),\n",
       " tensor(0.0082),\n",
       " tensor(0.0050),\n",
       " tensor(0.0050),\n",
       " tensor(0.0050)]"
      ]
     },
     "execution_count": 18,
     "metadata": {},
     "output_type": "execute_result"
    }
   ],
   "source": [
    "testing_loss"
   ]
  },
  {
   "cell_type": "code",
   "execution_count": 19,
   "metadata": {},
   "outputs": [
    {
     "data": {
      "image/png": "[encoded data removed]",
      "text/plain": [
       "<Figure size 720x504 with 1 Axes>"
      ]
     },
     "metadata": {
      "needs_background": "light"
     },
     "output_type": "display_data"
    }
   ],
   "source": [
    "plot_prediction(predictions=y_preds)"
   ]
  },
  {
   "cell_type": "code",
   "execution_count": 22,
   "metadata": {},
   "outputs": [
    {
     "data": {
      "image/png": "[encoded data removed]",
      "text/plain": [
       "<Figure size 720x504 with 1 Axes>"
      ]
     },
     "metadata": {
      "needs_background": "light"
     },
     "output_type": "display_data"
    }
   ],
   "source": [
    "plot_prediction(predictions=test_pred)"
   ]
  },
  {
   "cell_type": "code",
   "execution_count": 54,
   "metadata": {},
   "outputs": [],
   "source": [
    "#Saving a model in Pytroch\n",
    "#1.torch.save()-allows u to save a PyTorch object in python's pickel format\n",
    "#2.torch.load()-allows u load a saved PyTorch Object\n",
    "#3.torch.nn.Module.load_state_dict()-this allows to load a models's state dictionary "
   ]
  },
  {
   "cell_type": "code",
   "execution_count": 55,
   "metadata": {},
   "outputs": [
    {
     "name": "stdout",
     "output_type": "stream",
     "text": [
      "Saving model to:models/01_pytorch_workflow.pth\n"
     ]
    }
   ],
   "source": [
    "#saving our pytorch model\n",
    "from pathlib import Path\n",
    "\n",
    "#1.Create models directory\n",
    "MODEL_PATH=Path(\"models\")\n",
    "MODEL_PATH.mkdir(parents=True,exist_ok=True)\n",
    "\n",
    "#2.create model save path\n",
    "MODEL_NAME=\"01_pytorch_workflow.pth\"\n",
    "MODEL_SAVE_PATH=MODEL_PATH/MODEL_NAME\n",
    "\n",
    "#3.Save the model state dict \n",
    "print(f'Saving model to:{MODEL_SAVE_PATH}')\n",
    "\n",
    "torch.save(obj=model_0.state_dict(),\n",
    "            f=MODEL_SAVE_PATH)\n",
    "\n"
   ]
  },
  {
   "cell_type": "code",
   "execution_count": 56,
   "metadata": {},
   "outputs": [
    {
     "data": {
      "text/plain": [
       "<All keys matched successfully>"
      ]
     },
     "execution_count": 56,
     "metadata": {},
     "output_type": "execute_result"
    }
   ],
   "source": [
    "#Loading a PyTorch Model\n",
    "#Since we saved our model's state_dict() rather the entire model, we'll create a new instance of our model class and load the saved state_dict() into that\n",
    "\n",
    "#to load in a saved state_dict we have to instantiate a new instance of our model class \n",
    "loaded_model_0=LinerRegression()\n",
    "\n",
    "#Load the saved state_dict of model_0 (this will update the new instance with updated parameters)\n",
    "loaded_model_0.load_state_dict(torch.load(f=MODEL_SAVE_PATH))"
   ]
  },
  {
   "cell_type": "code",
   "execution_count": 57,
   "metadata": {},
   "outputs": [
    {
     "data": {
      "text/plain": [
       "OrderedDict([('weights', tensor([0.6990])), ('bias', tensor([0.3093]))])"
      ]
     },
     "execution_count": 57,
     "metadata": {},
     "output_type": "execute_result"
    }
   ],
   "source": [
    "loaded_model_0.state_dict()"
   ]
  },
  {
   "cell_type": "code",
   "execution_count": 58,
   "metadata": {},
   "outputs": [
    {
     "data": {
      "text/plain": [
       "OrderedDict([('weights', tensor([0.6990])), ('bias', tensor([0.3093]))])"
      ]
     },
     "execution_count": 58,
     "metadata": {},
     "output_type": "execute_result"
    }
   ],
   "source": [
    "model_0.state_dict()"
   ]
  },
  {
   "cell_type": "code",
   "execution_count": 59,
   "metadata": {},
   "outputs": [],
   "source": [
    "#Make some predictions with our loaded model\n",
    "loaded_model_0.eval()\n",
    "with torch.inference_mode():\n",
    "    loaded_pred_y=loaded_model_0(X_test)"
   ]
  },
  {
   "cell_type": "code",
   "execution_count": 60,
   "metadata": {},
   "outputs": [
    {
     "data": {
      "image/png": "[encoded data removed]",
      "text/plain": [
       "<Figure size 720x504 with 1 Axes>"
      ]
     },
     "metadata": {
      "needs_background": "light"
     },
     "output_type": "display_data"
    }
   ],
   "source": [
    "plot_prediction(predictions=loaded_pred_y)"
   ]
  },
  {
   "cell_type": "code",
   "execution_count": 61,
   "metadata": {},
   "outputs": [],
   "source": [
    "import torch \n",
    "from torch import nn \n",
    "import matplotlib.pyplot as plt\n"
   ]
  },
  {
   "cell_type": "code",
   "execution_count": 42,
   "metadata": {},
   "outputs": [
    {
     "data": {
      "text/plain": [
       "'cpu'"
      ]
     },
     "execution_count": 42,
     "metadata": {},
     "output_type": "execute_result"
    }
   ],
   "source": [
    "device=\"cuda\" if torch.cuda.is_available() else \"cpu\"\n",
    "device"
   ]
  },
  {
   "cell_type": "code",
   "execution_count": 34,
   "metadata": {},
   "outputs": [
    {
     "data": {
      "text/plain": [
       "(tensor([[0.0000],\n",
       "         [0.0200],\n",
       "         [0.0400],\n",
       "         [0.0600],\n",
       "         [0.0800],\n",
       "         [0.1000],\n",
       "         [0.1200],\n",
       "         [0.1400],\n",
       "         [0.1600],\n",
       "         [0.1800]]),\n",
       " tensor([[0.3000],\n",
       "         [0.3140],\n",
       "         [0.3280],\n",
       "         [0.3420],\n",
       "         [0.3560],\n",
       "         [0.3700],\n",
       "         [0.3840],\n",
       "         [0.3980],\n",
       "         [0.4120],\n",
       "         [0.4260]]))"
      ]
     },
     "execution_count": 34,
     "metadata": {},
     "output_type": "execute_result"
    }
   ],
   "source": [
    "#Data\n",
    "weight=0.7\n",
    "bias=0.3\n",
    "\n",
    "start=0\n",
    "end=1\n",
    "step=0.02\n",
    "\n",
    "X=torch.arange(start,end,step).unsqueeze(dim=1)\n",
    "Y=weight * X + bias\n",
    "\n",
    "X[:10],Y[:10]"
   ]
  },
  {
   "cell_type": "code",
   "execution_count": 35,
   "metadata": {},
   "outputs": [
    {
     "data": {
      "text/plain": [
       "(40, 40, 10, 10)"
      ]
     },
     "execution_count": 35,
     "metadata": {},
     "output_type": "execute_result"
    }
   ],
   "source": [
    "#Split Data\n",
    "train_split=int(0.8*len(X))\n",
    "X_tarin,Y_train=X[:train_split],Y[:train_split]\n",
    "X_test,Y_test=X[train_split:],Y[train_split:]\n",
    "\n",
    "len(X_tarin),len(Y_train),len(X_test),len(Y_test)"
   ]
  },
  {
   "cell_type": "code",
   "execution_count": 36,
   "metadata": {},
   "outputs": [
    {
     "data": {
      "image/png": "[encoded data removed]",
      "text/plain": [
       "<Figure size 720x720 with 1 Axes>"
      ]
     },
     "metadata": {
      "needs_background": "light"
     },
     "output_type": "display_data"
    }
   ],
   "source": [
    "#Viluzation\n",
    "def plot_prediction1(train_data=X_tarin,\n",
    "                    train_labels=Y_train,\n",
    "                    test_data=X_test,\n",
    "                    test_labels=Y_test,\n",
    "                    predictions=None):\n",
    "    plt.figure(figsize=(10,10))\n",
    "\n",
    "    plt.scatter(train_data,train_labels,c=\"b\",s=4,label=\"Training data\")\n",
    "\n",
    "    plt.scatter(test_data,test_labels,c=\"g\",s=4,label=\"Test data\")\n",
    "\n",
    "\n",
    "    if predictions is not None:\n",
    "        plt.scatter(test_data,predictions,c=\"r\",s=4,label=\"Predictions\")\n",
    "\n",
    "    plt.legend(prop={\"size\":14})\n",
    "\n",
    "plot_prediction1()\n",
    "\n",
    "\n",
    "\n"
   ]
  },
  {
   "cell_type": "code",
   "execution_count": 78,
   "metadata": {},
   "outputs": [],
   "source": [
    "#Building a Model\n",
    "class LinearRegressionmodel(nn.Module):\n",
    "    def __init__(self):\n",
    "        super().__init__()\n",
    "\n",
    "        #Use Linear() for creating the model parameters/ also called linear transform, probing layer,fully connected layer, dense layer\n",
    "        self.linear_layer=nn.Linear(in_features=1,\n",
    "                                    out_features=1)\n",
    "    \n",
    "    def forward(self,x:torch.Tensor)->torch.Tensor():\n",
    "        return self.linear_layer(x)\n"
   ]
  },
  {
   "cell_type": "code",
   "execution_count": 79,
   "metadata": {},
   "outputs": [
    {
     "data": {
      "text/plain": [
       "(LinearRegressionmodel(\n",
       "   (linear_layer): Linear(in_features=1, out_features=1, bias=True)\n",
       " ),\n",
       " OrderedDict([('linear_layer.weight', tensor([[0.7645]])),\n",
       "              ('linear_layer.bias', tensor([0.8300]))]))"
      ]
     },
     "execution_count": 79,
     "metadata": {},
     "output_type": "execute_result"
    }
   ],
   "source": [
    "torch.manual_seed(42)\n",
    "model_1=LinearRegressionmodel()\n",
    "model_1,model_1.state_dict()"
   ]
  },
  {
   "cell_type": "code",
   "execution_count": 63,
   "metadata": {},
   "outputs": [
    {
     "data": {
      "text/plain": [
       "device(type='cpu')"
      ]
     },
     "execution_count": 63,
     "metadata": {},
     "output_type": "execute_result"
    }
   ],
   "source": [
    "next(model_1.parameters()).device"
   ]
  },
  {
   "cell_type": "code",
   "execution_count": 64,
   "metadata": {},
   "outputs": [
    {
     "data": {
      "text/plain": [
       "device(type='cpu')"
      ]
     },
     "execution_count": 64,
     "metadata": {},
     "output_type": "execute_result"
    }
   ],
   "source": [
    "model_1.to(device) #for gpu\n",
    "next(model_1.parameters()).device"
   ]
  },
  {
   "cell_type": "code",
   "execution_count": 80,
   "metadata": {},
   "outputs": [],
   "source": [
    "#Training\n",
    "loss_fn=nn.L1Loss()\n",
    "optimizer=torch.optim.SGD(params=model_1.parameters(),\n",
    "                            lr=0.01)"
   ]
  },
  {
   "cell_type": "code",
   "execution_count": 81,
   "metadata": {},
   "outputs": [
    {
     "name": "stdout",
     "output_type": "stream",
     "text": [
      "Epoch:0 | Training_loss:0.5551779866218567 | Testing loss:0.5739762187004089\n",
      "Epoch:10 | Training_loss:0.4399680495262146 | Testing loss:0.4392663538455963\n",
      "Epoch:20 | Training_loss:0.3247582018375397 | Testing loss:0.30455657839775085\n",
      "Epoch:30 | Training_loss:0.20954827964305878 | Testing loss:0.16984674334526062\n",
      "Epoch:40 | Training_loss:0.09433844685554504 | Testing loss:0.03513689711689949\n",
      "Epoch:50 | Training_loss:0.023886386305093765 | Testing loss:0.04784906655550003\n",
      "Epoch:60 | Training_loss:0.0199567973613739 | Testing loss:0.04580312222242355\n",
      "Epoch:70 | Training_loss:0.016517987474799156 | Testing loss:0.0375305712223053\n",
      "Epoch:80 | Training_loss:0.013089170679450035 | Testing loss:0.029944902285933495\n",
      "Epoch:90 | Training_loss:0.009653178043663502 | Testing loss:0.02167237363755703\n",
      "Epoch:100 | Training_loss:0.006215679459273815 | Testing loss:0.014086711220443249\n",
      "Epoch:110 | Training_loss:0.002787243574857712 | Testing loss:0.005814164876937866\n",
      "Epoch:120 | Training_loss:0.0012645035749301314 | Testing loss:0.013801807537674904\n",
      "Epoch:130 | Training_loss:0.0012645035749301314 | Testing loss:0.013801807537674904\n",
      "Epoch:140 | Training_loss:0.0012645035749301314 | Testing loss:0.013801807537674904\n",
      "Epoch:150 | Training_loss:0.0012645035749301314 | Testing loss:0.013801807537674904\n",
      "Epoch:160 | Training_loss:0.0012645035749301314 | Testing loss:0.013801807537674904\n",
      "Epoch:170 | Training_loss:0.0012645035749301314 | Testing loss:0.013801807537674904\n",
      "Epoch:180 | Training_loss:0.0012645035749301314 | Testing loss:0.013801807537674904\n",
      "Epoch:190 | Training_loss:0.0012645035749301314 | Testing loss:0.013801807537674904\n"
     ]
    }
   ],
   "source": [
    "#training loop\n",
    "epochs=200\n",
    "epoch_count=[]\n",
    "training_loss=[]\n",
    "testing_loss=[]\n",
    "\n",
    "for epoch in range(epochs):\n",
    "    model_1.train()\n",
    "    y_pred1=model_1(X_train)\n",
    "    #print(y_pred1)\n",
    "\n",
    "    loss_train=loss_fn(y_pred1,Y_train)\n",
    "\n",
    "    optimizer.zero_grad()\n",
    "\n",
    "    loss_train.backward()\n",
    "\n",
    "    optimizer.step()\n",
    "\n",
    "\n",
    "\n",
    "#testing\n",
    "    model_1.eval()\n",
    "    with torch.inference_mode():\n",
    "        test_pred=model_1(X_test)\n",
    "        test_loss=loss_fn(test_pred,Y_test)\n",
    "\n",
    "\n",
    "\n",
    "    if epoch%10==0:\n",
    "        epoch_count.append(epoch)\n",
    "        training_loss.append(loss_train)\n",
    "        testing_loss.append(test_loss)\n",
    "\n",
    "        print(f\"Epoch:{epoch} | Training_loss:{loss_train} | Testing loss:{test_loss}\")\n",
    "\n",
    "     "
   ]
  },
  {
   "cell_type": "code",
   "execution_count": 82,
   "metadata": {},
   "outputs": [
    {
     "data": {
      "image/png": "[encoded data removed]",
      "text/plain": [
       "<Figure size 720x504 with 1 Axes>"
      ]
     },
     "metadata": {
      "needs_background": "light"
     },
     "output_type": "display_data"
    }
   ],
   "source": [
    "plot_prediction(predictions=test_pred)"
   ]
  },
  {
   "cell_type": "code",
   "execution_count": 83,
   "metadata": {},
   "outputs": [
    {
     "data": {
      "text/plain": [
       "<matplotlib.legend.Legend at 0x7efead462020>"
      ]
     },
     "execution_count": 83,
     "metadata": {},
     "output_type": "execute_result"
    },
    {
     "data": {
      "image/png": "[encoded data removed]",
      "text/plain": [
       "<Figure size 432x288 with 1 Axes>"
      ]
     },
     "metadata": {
      "needs_background": "light"
     },
     "output_type": "display_data"
    }
   ],
   "source": [
    "import numpy as np\n",
    "plt.plot(epoch_count,np.array(torch.Tensor(training_loss).numpy()),label=\"Training loss\")\n",
    "plt.plot(epoch_count,testing_loss,label=\"Testing loss\")\n",
    "plt.title(\"Training and Testing Loss\")\n",
    "plt.ylabel(\"loss\")\n",
    "plt.xlabel(\"Epochs\")\n",
    "plt.legend()"
   ]
  },
  {
   "cell_type": "code",
   "execution_count": 84,
   "metadata": {},
   "outputs": [
    {
     "name": "stdout",
     "output_type": "stream",
     "text": [
      "Saving Model:giri/work_flow_train02.pth\n"
     ]
    }
   ],
   "source": [
    "#saving the Model\n",
    "from pathlib import Path\n",
    "MODEL_PATH=Path(\"giri\")\n",
    "MODEL_PATH.mkdir(parents=True,exist_ok=True)\n",
    "\n",
    "MODEL_NAME=\"work_flow_train02.pth\"\n",
    "MODEL_SAVE_PATH=MODEL_PATH/MODEL_NAME\n",
    "\n",
    "print(f'Saving Model:{MODEL_SAVE_PATH}')\n",
    "torch.save(obj=model_1.state_dict(),\n",
    "            f=MODEL_SAVE_PATH)"
   ]
  },
  {
   "cell_type": "code",
   "execution_count": 85,
   "metadata": {},
   "outputs": [
    {
     "data": {
      "text/plain": [
       "<All keys matched successfully>"
      ]
     },
     "execution_count": 85,
     "metadata": {},
     "output_type": "execute_result"
    }
   ],
   "source": [
    "#Loading the Model\n",
    "\n",
    "loaded_model_1=LinearRegressionmodel()\n",
    "loaded_model_1.load_state_dict(torch.load(f=MODEL_SAVE_PATH))"
   ]
  },
  {
   "cell_type": "code",
   "execution_count": 86,
   "metadata": {},
   "outputs": [
    {
     "data": {
      "text/plain": [
       "OrderedDict([('linear_layer.weight', tensor([[0.6968]])),\n",
       "             ('linear_layer.bias', tensor([0.3025]))])"
      ]
     },
     "execution_count": 86,
     "metadata": {},
     "output_type": "execute_result"
    }
   ],
   "source": [
    "loaded_model_1.state_dict()"
   ]
  },
  {
   "cell_type": "code",
   "execution_count": 87,
   "metadata": {},
   "outputs": [
    {
     "data": {
      "text/plain": [
       "OrderedDict([('linear_layer.weight', tensor([[0.6968]])),\n",
       "             ('linear_layer.bias', tensor([0.3025]))])"
      ]
     },
     "execution_count": 87,
     "metadata": {},
     "output_type": "execute_result"
    }
   ],
   "source": [
    "model_1.state_dict()"
   ]
  },
  {
   "cell_type": "code",
   "execution_count": 88,
   "metadata": {},
   "outputs": [
    {
     "data": {
      "text/plain": [
       "tensor([[0.8600],\n",
       "        [0.8739],\n",
       "        [0.8878],\n",
       "        [0.9018],\n",
       "        [0.9157],\n",
       "        [0.9296],\n",
       "        [0.9436],\n",
       "        [0.9575],\n",
       "        [0.9714],\n",
       "        [0.9854]])"
      ]
     },
     "execution_count": 88,
     "metadata": {},
     "output_type": "execute_result"
    }
   ],
   "source": [
    "loaded_model_1.eval()\n",
    "with torch.inference_mode():\n",
    "    loaded_model_pred1=loaded_model_1(X_test)\n",
    "\n",
    "loaded_model_pred1"
   ]
  },
  {
   "cell_type": "code",
   "execution_count": 89,
   "metadata": {},
   "outputs": [
    {
     "data": {
      "image/png": "[encoded data removed]",
      "text/plain": [
       "<Figure size 720x720 with 1 Axes>"
      ]
     },
     "metadata": {
      "needs_background": "light"
     },
     "output_type": "display_data"
    }
   ],
   "source": [
    "plot_prediction1(predictions=loaded_model_pred1)"
   ]
  },
  {
   "cell_type": "code",
   "execution_count": 90,
   "metadata": {},
   "outputs": [
    {
     "data": {
      "text/plain": [
       "tensor([[True],\n",
       "        [True],\n",
       "        [True],\n",
       "        [True],\n",
       "        [True],\n",
       "        [True],\n",
       "        [True],\n",
       "        [True],\n",
       "        [True],\n",
       "        [True]])"
      ]
     },
     "execution_count": 90,
     "metadata": {},
     "output_type": "execute_result"
    }
   ],
   "source": [
    "loaded_model_pred1==test_pred"
   ]
  },
  {
   "cell_type": "code",
   "execution_count": null,
   "metadata": {},
   "outputs": [],
   "source": []
  }
 ],
 "metadata": {
  "kernelspec": {
   "display_name": "Python 3",
   "language": "python",
   "name": "python3"
  },
  "language_info": {
   "codemirror_mode": {
    "name": "ipython",
    "version": 3
   },
   "file_extension": ".py",
   "mimetype": "text/x-python",
   "name": "python",
   "nbconvert_exporter": "python",
   "pygments_lexer": "ipython3",
   "version": "3.10.6"
  },
  "orig_nbformat": 4,
  "vscode": {
   "interpreter": {
    "hash": "916dbcbb3f70747c44a77c7bcd40155683ae19c65e1c03b4aa3499c5328201f1"
   }
  }
 },
 "nbformat": 4,
 "nbformat_minor": 2
}
