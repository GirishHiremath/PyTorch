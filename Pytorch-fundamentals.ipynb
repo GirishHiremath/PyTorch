{
 "cells": [
  {
   "cell_type": "code",
   "execution_count": 2,
   "id": "fbf86a40",
   "metadata": {},
   "outputs": [
    {
     "name": "stdout",
     "output_type": "stream",
     "text": [
      "1.7.1+cpu\n"
     ]
    }
   ],
   "source": [
    "import torch\n",
    "print(torch.__version__)"
   ]
  },
  {
   "cell_type": "code",
   "execution_count": 3,
   "id": "537c51f7",
   "metadata": {},
   "outputs": [
    {
     "data": {
      "text/plain": [
       "tensor(7)"
      ]
     },
     "execution_count": 3,
     "metadata": {},
     "output_type": "execute_result"
    }
   ],
   "source": [
    "scaler=torch.tensor(7)\n",
    "scaler"
   ]
  },
  {
   "cell_type": "code",
   "execution_count": 4,
   "id": "7565abbc",
   "metadata": {},
   "outputs": [
    {
     "data": {
      "text/plain": [
       "0"
      ]
     },
     "execution_count": 4,
     "metadata": {},
     "output_type": "execute_result"
    }
   ],
   "source": [
    "scaler.ndim"
   ]
  },
  {
   "cell_type": "code",
   "execution_count": 5,
   "id": "55d1ad34",
   "metadata": {},
   "outputs": [
    {
     "data": {
      "text/plain": [
       "7"
      ]
     },
     "execution_count": 5,
     "metadata": {},
     "output_type": "execute_result"
    }
   ],
   "source": [
    "scaler.item()"
   ]
  },
  {
   "cell_type": "code",
   "execution_count": 6,
   "id": "12181ca4",
   "metadata": {},
   "outputs": [
    {
     "data": {
      "text/plain": [
       "tensor([7, 1])"
      ]
     },
     "execution_count": 6,
     "metadata": {},
     "output_type": "execute_result"
    }
   ],
   "source": [
    "vector=torch.tensor([7,1])\n",
    "vector"
   ]
  },
  {
   "cell_type": "code",
   "execution_count": 7,
   "id": "a6bb6468",
   "metadata": {},
   "outputs": [
    {
     "data": {
      "text/plain": [
       "1"
      ]
     },
     "execution_count": 7,
     "metadata": {},
     "output_type": "execute_result"
    }
   ],
   "source": [
    "vector.ndim"
   ]
  },
  {
   "cell_type": "code",
   "execution_count": 8,
   "id": "6a39e868",
   "metadata": {},
   "outputs": [
    {
     "data": {
      "text/plain": [
       "torch.Size([2])"
      ]
     },
     "execution_count": 8,
     "metadata": {},
     "output_type": "execute_result"
    }
   ],
   "source": [
    "vector.shape"
   ]
  },
  {
   "cell_type": "code",
   "execution_count": 9,
   "id": "e22eb960",
   "metadata": {},
   "outputs": [],
   "source": [
    "matrix=torch.tensor([[1,2],\n",
    "                   [3,4]])"
   ]
  },
  {
   "cell_type": "code",
   "execution_count": 10,
   "id": "edf7128f",
   "metadata": {},
   "outputs": [
    {
     "data": {
      "text/plain": [
       "2"
      ]
     },
     "execution_count": 10,
     "metadata": {},
     "output_type": "execute_result"
    }
   ],
   "source": [
    "matrix.ndim"
   ]
  },
  {
   "cell_type": "code",
   "execution_count": 11,
   "id": "2c87f582",
   "metadata": {},
   "outputs": [
    {
     "data": {
      "text/plain": [
       "torch.Size([2, 2])"
      ]
     },
     "execution_count": 11,
     "metadata": {},
     "output_type": "execute_result"
    }
   ],
   "source": [
    "matrix.shape"
   ]
  },
  {
   "cell_type": "code",
   "execution_count": 12,
   "id": "6e17eca9",
   "metadata": {},
   "outputs": [
    {
     "data": {
      "text/plain": [
       "tensor([3, 4])"
      ]
     },
     "execution_count": 12,
     "metadata": {},
     "output_type": "execute_result"
    }
   ],
   "source": [
    "matrix[1]"
   ]
  },
  {
   "cell_type": "code",
   "execution_count": 13,
   "id": "023f9008",
   "metadata": {},
   "outputs": [
    {
     "data": {
      "text/plain": [
       "tensor([[[1, 2, 3],\n",
       "         [4, 5, 6],\n",
       "         [7, 8, 9]]])"
      ]
     },
     "execution_count": 13,
     "metadata": {},
     "output_type": "execute_result"
    }
   ],
   "source": [
    "tensor=torch.tensor([[[1,2,3],\n",
    "                     [4,5,6],\n",
    "                     [7,8,9]]])\n",
    "tensor"
   ]
  },
  {
   "cell_type": "code",
   "execution_count": 14,
   "id": "77002869",
   "metadata": {},
   "outputs": [
    {
     "data": {
      "text/plain": [
       "3"
      ]
     },
     "execution_count": 14,
     "metadata": {},
     "output_type": "execute_result"
    }
   ],
   "source": [
    "tensor.ndim"
   ]
  },
  {
   "cell_type": "code",
   "execution_count": 15,
   "id": "21ec394d",
   "metadata": {},
   "outputs": [
    {
     "data": {
      "text/plain": [
       "torch.Size([1, 3, 3])"
      ]
     },
     "execution_count": 15,
     "metadata": {},
     "output_type": "execute_result"
    }
   ],
   "source": [
    "tensor.shape"
   ]
  },
  {
   "cell_type": "code",
   "execution_count": 23,
   "id": "9a52939f",
   "metadata": {},
   "outputs": [
    {
     "data": {
      "text/plain": [
       "tensor(9)"
      ]
     },
     "execution_count": 23,
     "metadata": {},
     "output_type": "execute_result"
    }
   ],
   "source": [
    "tensor[0][2][2]"
   ]
  },
  {
   "cell_type": "code",
   "execution_count": 26,
   "id": "0b5a87a4",
   "metadata": {},
   "outputs": [
    {
     "data": {
      "text/plain": [
       "3"
      ]
     },
     "execution_count": 26,
     "metadata": {},
     "output_type": "execute_result"
    }
   ],
   "source": [
    "tensor.ndim"
   ]
  },
  {
   "cell_type": "code",
   "execution_count": 34,
   "id": "61d226fa",
   "metadata": {},
   "outputs": [
    {
     "data": {
      "text/plain": [
       "tensor([[[[0.2769, 0.8497, 0.4746, 0.1522, 0.6774],\n",
       "          [0.8897, 0.6362, 0.4913, 0.3701, 0.5094]],\n",
       "\n",
       "         [[0.6875, 0.9946, 0.1810, 0.6714, 0.5584],\n",
       "          [0.7133, 0.2271, 0.4070, 0.2804, 0.7815]],\n",
       "\n",
       "         [[0.4338, 0.2578, 0.3029, 0.5753, 0.2578],\n",
       "          [0.2711, 0.5176, 0.0341, 0.5550, 0.7379]],\n",
       "\n",
       "         [[0.3437, 0.6396, 0.0576, 0.6754, 0.5955],\n",
       "          [0.8419, 0.2555, 0.1063, 0.7639, 0.3698]]],\n",
       "\n",
       "\n",
       "        [[[0.2439, 0.7325, 0.3053, 0.8170, 0.5375],\n",
       "          [0.4962, 0.7359, 0.8819, 0.2307, 0.2072]],\n",
       "\n",
       "         [[0.2585, 0.9127, 0.4031, 0.1373, 0.6507],\n",
       "          [0.9421, 0.5048, 0.4543, 0.7386, 0.0905]],\n",
       "\n",
       "         [[0.8391, 0.1765, 0.6356, 0.7020, 0.7907],\n",
       "          [0.4585, 0.2841, 0.3872, 0.2999, 0.3338]],\n",
       "\n",
       "         [[0.0475, 0.1448, 0.0209, 0.2888, 0.9769],\n",
       "          [0.2441, 0.5364, 0.2089, 0.0147, 0.4333]]]])"
      ]
     },
     "execution_count": 34,
     "metadata": {},
     "output_type": "execute_result"
    }
   ],
   "source": [
    "random_tensor=torch.rand(2,4,2,5)\n",
    "random_tensor"
   ]
  },
  {
   "cell_type": "code",
   "execution_count": 35,
   "id": "ddaf190c",
   "metadata": {},
   "outputs": [
    {
     "data": {
      "text/plain": [
       "4"
      ]
     },
     "execution_count": 35,
     "metadata": {},
     "output_type": "execute_result"
    }
   ],
   "source": [
    "random_tensor.ndim"
   ]
  },
  {
   "cell_type": "code",
   "execution_count": 37,
   "id": "ee98716e",
   "metadata": {},
   "outputs": [
    {
     "data": {
      "text/plain": [
       "tensor([[0., 0., 0., 0.],\n",
       "        [0., 0., 0., 0.],\n",
       "        [0., 0., 0., 0.]])"
      ]
     },
     "execution_count": 37,
     "metadata": {},
     "output_type": "execute_result"
    }
   ],
   "source": [
    "#zeros and ones\n",
    "zeros=torch.zeros(size=(3,4))\n",
    "zeros"
   ]
  },
  {
   "cell_type": "code",
   "execution_count": 39,
   "id": "4d7a4e45",
   "metadata": {},
   "outputs": [
    {
     "data": {
      "text/plain": [
       "tensor([[1., 1., 1., 1., 1.],\n",
       "        [1., 1., 1., 1., 1.],\n",
       "        [1., 1., 1., 1., 1.],\n",
       "        [1., 1., 1., 1., 1.]])"
      ]
     },
     "execution_count": 39,
     "metadata": {},
     "output_type": "execute_result"
    }
   ],
   "source": [
    "ones=torch.ones(size=(4,5))\n",
    "ones"
   ]
  },
  {
   "cell_type": "code",
   "execution_count": 40,
   "id": "89b9c5a9",
   "metadata": {},
   "outputs": [
    {
     "data": {
      "text/plain": [
       "torch.float32"
      ]
     },
     "execution_count": 40,
     "metadata": {},
     "output_type": "execute_result"
    }
   ],
   "source": [
    "ones.dtype"
   ]
  },
  {
   "cell_type": "code",
   "execution_count": 41,
   "id": "120814a4",
   "metadata": {},
   "outputs": [
    {
     "name": "stderr",
     "output_type": "stream",
     "text": [
      "<ipython-input-41-a2647884754e>:1: UserWarning: torch.range is deprecated and will be removed in a future release because its behavior is inconsistent with Python's range builtin. Instead, use torch.arange, which produces values in [start, end).\n",
      "  torch.range(1,10)\n"
     ]
    },
    {
     "data": {
      "text/plain": [
       "tensor([ 1.,  2.,  3.,  4.,  5.,  6.,  7.,  8.,  9., 10.])"
      ]
     },
     "execution_count": 41,
     "metadata": {},
     "output_type": "execute_result"
    }
   ],
   "source": [
    "torch.range(1,10)"
   ]
  },
  {
   "cell_type": "code",
   "execution_count": 43,
   "id": "cd0f7bbd",
   "metadata": {},
   "outputs": [
    {
     "data": {
      "text/plain": [
       "tensor([1, 2, 3, 4, 5, 6, 7, 8, 9])"
      ]
     },
     "execution_count": 43,
     "metadata": {},
     "output_type": "execute_result"
    }
   ],
   "source": [
    "torch.arange(1,10)"
   ]
  },
  {
   "cell_type": "code",
   "execution_count": 46,
   "id": "f7f0fb92",
   "metadata": {},
   "outputs": [],
   "source": [
    "torch_range=torch.arange(start=1,end=100,step=5)"
   ]
  },
  {
   "cell_type": "code",
   "execution_count": 47,
   "id": "7b47c6c3",
   "metadata": {},
   "outputs": [
    {
     "data": {
      "text/plain": [
       "tensor([0, 0, 0, 0, 0, 0, 0, 0, 0, 0, 0, 0, 0, 0, 0, 0, 0, 0, 0, 0])"
      ]
     },
     "execution_count": 47,
     "metadata": {},
     "output_type": "execute_result"
    }
   ],
   "source": [
    "torch.zeros_like(input=(torch_range))"
   ]
  },
  {
   "cell_type": "code",
   "execution_count": 49,
   "id": "7a37fc0e",
   "metadata": {},
   "outputs": [
    {
     "data": {
      "text/plain": [
       "tensor([1.0000, 2.2000, 3.1000])"
      ]
     },
     "execution_count": 49,
     "metadata": {},
     "output_type": "execute_result"
    }
   ],
   "source": [
    "#Tensor data type\n",
    "float32=torch.tensor([1.0,2.2,3.1],dtype=None)\n",
    "float32"
   ]
  },
  {
   "cell_type": "code",
   "execution_count": 51,
   "id": "b20c9cab",
   "metadata": {},
   "outputs": [
    {
     "data": {
      "text/plain": [
       "torch.float32"
      ]
     },
     "execution_count": 51,
     "metadata": {},
     "output_type": "execute_result"
    }
   ],
   "source": [
    "float32.dtype"
   ]
  },
  {
   "cell_type": "code",
   "execution_count": 53,
   "id": "bea5f1ed",
   "metadata": {},
   "outputs": [
    {
     "data": {
      "text/plain": [
       "tensor([1.0000, 2.1992, 3.0996], dtype=torch.float16)"
      ]
     },
     "execution_count": 53,
     "metadata": {},
     "output_type": "execute_result"
    }
   ],
   "source": [
    "#Tensor data type\n",
    "float32=torch.tensor([1.0,2.2,3.1],dtype=torch.float16)\n",
    "float32"
   ]
  },
  {
   "cell_type": "code",
   "execution_count": 54,
   "id": "bb6077ff",
   "metadata": {},
   "outputs": [
    {
     "data": {
      "text/plain": [
       "torch.float16"
      ]
     },
     "execution_count": 54,
     "metadata": {},
     "output_type": "execute_result"
    }
   ],
   "source": [
    "float32.dtype"
   ]
  },
  {
   "cell_type": "code",
   "execution_count": 57,
   "id": "e05435db",
   "metadata": {},
   "outputs": [
    {
     "data": {
      "text/plain": [
       "tensor([1.0000, 2.2000, 3.1000])"
      ]
     },
     "execution_count": 57,
     "metadata": {},
     "output_type": "execute_result"
    }
   ],
   "source": [
    "float32=torch.tensor([1.0,2.2,3.1],dtype=None, #what data type is tensor(float32 float16 and float 64)\n",
    "                                    device=None, #what divice is your tensor on\n",
    "                                    requires_grad=False) #weather or not to track gradients with this tensors operations\n",
    "float32"
   ]
  },
  {
   "cell_type": "code",
   "execution_count": 58,
   "id": "21491361",
   "metadata": {},
   "outputs": [
    {
     "data": {
      "text/plain": [
       "tensor([1.0000, 2.1992, 3.0996], dtype=torch.float16)"
      ]
     },
     "execution_count": 58,
     "metadata": {},
     "output_type": "execute_result"
    }
   ],
   "source": [
    "float_16=float32.type(torch.float16)\n",
    "float_16"
   ]
  },
  {
   "cell_type": "code",
   "execution_count": 59,
   "id": "3e3da828",
   "metadata": {},
   "outputs": [
    {
     "data": {
      "text/plain": [
       "tensor([11, 12, 13])"
      ]
     },
     "execution_count": 59,
     "metadata": {},
     "output_type": "execute_result"
    }
   ],
   "source": [
    "#Manipulating the Tensor\n",
    "#Addition\n",
    "#sutraction\n",
    "#Multiplication(element wise)\n",
    "#Matrix Multiplication\n",
    "\n",
    "tensor=torch.tensor([1,2,3])\n",
    "tensor+10\n",
    "\n"
   ]
  },
  {
   "cell_type": "code",
   "execution_count": 60,
   "id": "2484aaa1",
   "metadata": {},
   "outputs": [
    {
     "data": {
      "text/plain": [
       "tensor([10, 20, 30])"
      ]
     },
     "execution_count": 60,
     "metadata": {},
     "output_type": "execute_result"
    }
   ],
   "source": [
    "tensor*10"
   ]
  },
  {
   "cell_type": "code",
   "execution_count": 61,
   "id": "baf6b20a",
   "metadata": {},
   "outputs": [
    {
     "data": {
      "text/plain": [
       "tensor([10, 20, 30])"
      ]
     },
     "execution_count": 61,
     "metadata": {},
     "output_type": "execute_result"
    }
   ],
   "source": [
    "#builtin functions\n",
    "torch.mul(tensor,10)"
   ]
  },
  {
   "cell_type": "code",
   "execution_count": 65,
   "id": "9dce3a52",
   "metadata": {},
   "outputs": [
    {
     "name": "stdout",
     "output_type": "stream",
     "text": [
      "Equals: {tensor([1, 4, 9])}\n"
     ]
    }
   ],
   "source": [
    "#matrix Multiplication\n",
    "#1.Element wise Multiplication\n",
    "print(f\"Equals:\",{tensor*tensor})"
   ]
  },
  {
   "cell_type": "code",
   "execution_count": 66,
   "id": "91d73959",
   "metadata": {},
   "outputs": [
    {
     "data": {
      "text/plain": [
       "tensor(14)"
      ]
     },
     "execution_count": 66,
     "metadata": {},
     "output_type": "execute_result"
    }
   ],
   "source": [
    "#Matrix Multiplication\n",
    "torch.matmul(tensor,tensor)"
   ]
  },
  {
   "cell_type": "code",
   "execution_count": 69,
   "id": "ca796354",
   "metadata": {},
   "outputs": [
    {
     "name": "stdout",
     "output_type": "stream",
     "text": [
      "tensor(14)\n",
      "CPU times: user 859 µs, sys: 85 µs, total: 944 µs\n",
      "Wall time: 597 µs\n"
     ]
    }
   ],
   "source": [
    "%%time\n",
    "value=0\n",
    "for i in range(len(tensor)):\n",
    "    value+=tensor[i]*tensor[i]\n",
    "print(value)"
   ]
  },
  {
   "cell_type": "code",
   "execution_count": 70,
   "id": "e81ef8da",
   "metadata": {},
   "outputs": [
    {
     "name": "stdout",
     "output_type": "stream",
     "text": [
      "CPU times: user 159 µs, sys: 15 µs, total: 174 µs\n",
      "Wall time: 110 µs\n"
     ]
    },
    {
     "data": {
      "text/plain": [
       "tensor(14)"
      ]
     },
     "execution_count": 70,
     "metadata": {},
     "output_type": "execute_result"
    }
   ],
   "source": [
    "%%time\n",
    "torch.matmul(tensor,tensor)"
   ]
  },
  {
   "cell_type": "code",
   "execution_count": null,
   "id": "31450a16",
   "metadata": {},
   "outputs": [],
   "source": [
    "#There are two main rules that performing matrix mutliplication needs to satisfy:\n",
    "#The inner dimensions must match\n",
    "#(3,2)@(3,2) will not work\n",
    "#(2,3)@(3,2) will work\n",
    "#(3,2)@(2,3) Will work\n",
    "\n",
    "#The resulting matrix has the shape of the outer dimensions\n",
    "#(2,3)@(3,2)->(2,2)\n",
    "#(3,2)@(2,3)->(3,3)"
   ]
  },
  {
   "cell_type": "code",
   "execution_count": 75,
   "id": "d24e7fa8",
   "metadata": {},
   "outputs": [],
   "source": [
    "#one of the most common error in deep learning:Shape error\n",
    "tensor_A=torch.tensor([[1,2],\n",
    "          [3,4],\n",
    "          [5,6]])\n",
    "tensor_B=torch.tensor([[11,12],\n",
    "          [13,14],\n",
    "          [15,16]])"
   ]
  },
  {
   "cell_type": "code",
   "execution_count": 76,
   "id": "54de5c29",
   "metadata": {},
   "outputs": [
    {
     "ename": "RuntimeError",
     "evalue": "mat1 and mat2 shapes cannot be multiplied (3x2 and 3x2)",
     "output_type": "error",
     "traceback": [
      "\u001b[0;31m---------------------------------------------------------------------------\u001b[0m",
      "\u001b[0;31mRuntimeError\u001b[0m                              Traceback (most recent call last)",
      "\u001b[0;32m<ipython-input-76-9a50b208aa0b>\u001b[0m in \u001b[0;36m<module>\u001b[0;34m\u001b[0m\n\u001b[0;32m----> 1\u001b[0;31m \u001b[0mresult\u001b[0m\u001b[0;34m=\u001b[0m\u001b[0mtorch\u001b[0m\u001b[0;34m.\u001b[0m\u001b[0mmatmul\u001b[0m\u001b[0;34m(\u001b[0m\u001b[0mtensor_A\u001b[0m\u001b[0;34m,\u001b[0m\u001b[0mtensor_B\u001b[0m\u001b[0;34m)\u001b[0m\u001b[0;34m\u001b[0m\u001b[0;34m\u001b[0m\u001b[0m\n\u001b[0m",
      "\u001b[0;31mRuntimeError\u001b[0m: mat1 and mat2 shapes cannot be multiplied (3x2 and 3x2)"
     ]
    }
   ],
   "source": [
    "result=torch.matmul(tensor_A,tensor_B)"
   ]
  },
  {
   "cell_type": "code",
   "execution_count": 77,
   "id": "b414d91e",
   "metadata": {},
   "outputs": [],
   "source": [
    "result=torch.matmul(tensor_A,tensor_B.T)"
   ]
  },
  {
   "cell_type": "code",
   "execution_count": 79,
   "id": "b9a959d1",
   "metadata": {},
   "outputs": [
    {
     "data": {
      "text/plain": [
       "(tensor([[ 35,  41,  47],\n",
       "         [ 81,  95, 109],\n",
       "         [127, 149, 171]]),\n",
       " torch.Size([3, 3]))"
      ]
     },
     "execution_count": 79,
     "metadata": {},
     "output_type": "execute_result"
    }
   ],
   "source": [
    "result,result.shape"
   ]
  },
  {
   "cell_type": "code",
   "execution_count": 81,
   "id": "51d5f52f",
   "metadata": {},
   "outputs": [
    {
     "data": {
      "text/plain": [
       "torch.int64"
      ]
     },
     "execution_count": 81,
     "metadata": {},
     "output_type": "execute_result"
    }
   ],
   "source": [
    "#Finding min max mean sum etc(tensor aggregation)\n",
    "x=torch.arange(1,20,2)\n",
    "x.dtype"
   ]
  },
  {
   "cell_type": "code",
   "execution_count": 83,
   "id": "69ec76fd",
   "metadata": {},
   "outputs": [
    {
     "data": {
      "text/plain": [
       "(tensor(1), tensor(1))"
      ]
     },
     "execution_count": 83,
     "metadata": {},
     "output_type": "execute_result"
    }
   ],
   "source": [
    "x.min(),torch.min(x)"
   ]
  },
  {
   "cell_type": "code",
   "execution_count": 84,
   "id": "a80609e4",
   "metadata": {},
   "outputs": [
    {
     "data": {
      "text/plain": [
       "(tensor(19), tensor(19))"
      ]
     },
     "execution_count": 84,
     "metadata": {},
     "output_type": "execute_result"
    }
   ],
   "source": [
    "x.max(),torch.max(x)"
   ]
  },
  {
   "cell_type": "code",
   "execution_count": 85,
   "id": "ee4bc72a",
   "metadata": {},
   "outputs": [
    {
     "ename": "RuntimeError",
     "evalue": "Can only calculate the mean of floating types. Got Long instead.",
     "output_type": "error",
     "traceback": [
      "\u001b[0;31m---------------------------------------------------------------------------\u001b[0m",
      "\u001b[0;31mRuntimeError\u001b[0m                              Traceback (most recent call last)",
      "\u001b[0;32m<ipython-input-85-455868396db1>\u001b[0m in \u001b[0;36m<module>\u001b[0;34m\u001b[0m\n\u001b[0;32m----> 1\u001b[0;31m \u001b[0mtorch\u001b[0m\u001b[0;34m.\u001b[0m\u001b[0mmean\u001b[0m\u001b[0;34m(\u001b[0m\u001b[0mx\u001b[0m\u001b[0;34m)\u001b[0m\u001b[0;34m\u001b[0m\u001b[0;34m\u001b[0m\u001b[0m\n\u001b[0m",
      "\u001b[0;31mRuntimeError\u001b[0m: Can only calculate the mean of floating types. Got Long instead."
     ]
    }
   ],
   "source": [
    "torch.mean(x)"
   ]
  },
  {
   "cell_type": "code",
   "execution_count": 88,
   "id": "a65c7fb5",
   "metadata": {},
   "outputs": [
    {
     "data": {
      "text/plain": [
       "(tensor(10.), tensor(10.))"
      ]
     },
     "execution_count": 88,
     "metadata": {},
     "output_type": "execute_result"
    }
   ],
   "source": [
    "torch.mean(x.type(torch.float32)),x.type(torch.float32).mean()"
   ]
  },
  {
   "cell_type": "code",
   "execution_count": 89,
   "id": "b5579ee5",
   "metadata": {},
   "outputs": [
    {
     "data": {
      "text/plain": [
       "(tensor(100), tensor(100))"
      ]
     },
     "execution_count": 89,
     "metadata": {},
     "output_type": "execute_result"
    }
   ],
   "source": [
    "torch.sum(x),x.sum()"
   ]
  },
  {
   "cell_type": "code",
   "execution_count": 92,
   "id": "9b1b0152",
   "metadata": {},
   "outputs": [
    {
     "data": {
      "text/plain": [
       "(tensor(0), tensor(1))"
      ]
     },
     "execution_count": 92,
     "metadata": {},
     "output_type": "execute_result"
    }
   ],
   "source": [
    "#Finding the positional min and max\n",
    "x\n",
    "#Find the position in tensor that has the minimum value with argmin()-->returns indux position of target tensor where the mimimum value occurs\n",
    "x.argmin(),x[0]"
   ]
  },
  {
   "cell_type": "code",
   "execution_count": 93,
   "id": "86ce8e97",
   "metadata": {},
   "outputs": [
    {
     "data": {
      "text/plain": [
       "tensor(9)"
      ]
     },
     "execution_count": 93,
     "metadata": {},
     "output_type": "execute_result"
    }
   ],
   "source": [
    "#Find the position in tensor that has the minimum value with argmax()\n",
    "x.argmax()"
   ]
  },
  {
   "cell_type": "code",
   "execution_count": null,
   "id": "2ba4152c",
   "metadata": {},
   "outputs": [],
   "source": [
    "#Reshaping Stacking Squeezing and UnSqueezing tensors\n",
    "#Reshaping: an input tensor to a defined shape\n",
    "# View  :return a view of an input tensor of certain shape but keep the same memory as original tensor\n",
    "# Stacking :combine  multiple tensors on top of each other(vstack) or side by side (hstack)\n",
    "# Squeezing: Rempve all 1 dimensions  form a tensor\n",
    "# Unsueezing :add 1 dimensions to a target tensor\n",
    "# Premute: Return a view of the input with dimension permuted(swapped) in a certain way"
   ]
  },
  {
   "cell_type": "code",
   "execution_count": 104,
   "id": "a7277f6e",
   "metadata": {},
   "outputs": [
    {
     "data": {
      "text/plain": [
       "(tensor([1, 2, 3, 4, 5, 6, 7, 8, 9]), torch.Size([9]))"
      ]
     },
     "execution_count": 104,
     "metadata": {},
     "output_type": "execute_result"
    }
   ],
   "source": [
    "y=torch.arange(1,10)\n",
    "y,y.shape"
   ]
  },
  {
   "cell_type": "code",
   "execution_count": 138,
   "id": "3834ed7d",
   "metadata": {},
   "outputs": [
    {
     "data": {
      "text/plain": [
       "(tensor([[5, 2, 3, 4, 5, 6, 7, 8, 9]]), torch.Size([1, 9]))"
      ]
     },
     "execution_count": 138,
     "metadata": {},
     "output_type": "execute_result"
    }
   ],
   "source": [
    "y_reshape=y.reshape(1,9)\n",
    "y_reshape,y_reshape.shape"
   ]
  },
  {
   "cell_type": "code",
   "execution_count": 108,
   "id": "82db1719",
   "metadata": {},
   "outputs": [
    {
     "data": {
      "text/plain": [
       "(tensor([[1, 2, 3, 4, 5, 6, 7, 8, 9]]), torch.Size([1, 9]))"
      ]
     },
     "execution_count": 108,
     "metadata": {},
     "output_type": "execute_result"
    }
   ],
   "source": [
    "#Changing the View\n",
    "z=y.view(1,9)\n",
    "z,z.shape"
   ]
  },
  {
   "cell_type": "code",
   "execution_count": 111,
   "id": "522592b7",
   "metadata": {},
   "outputs": [
    {
     "data": {
      "text/plain": [
       "(tensor([[5, 2, 3, 4, 5, 6, 7, 8, 9]]), tensor([5, 2, 3, 4, 5, 6, 7, 8, 9]))"
      ]
     },
     "execution_count": 111,
     "metadata": {},
     "output_type": "execute_result"
    }
   ],
   "source": [
    "#Changing the z will change the x because a view of a tensor shares the same memory as the original \n",
    "z[:,0]=5\n",
    "z,y"
   ]
  },
  {
   "cell_type": "code",
   "execution_count": 114,
   "id": "4d597fa0",
   "metadata": {},
   "outputs": [
    {
     "data": {
      "text/plain": [
       "tensor([[5, 2, 3, 4, 5, 6, 7, 8, 9],\n",
       "        [5, 2, 3, 4, 5, 6, 7, 8, 9],\n",
       "        [5, 2, 3, 4, 5, 6, 7, 8, 9],\n",
       "        [5, 2, 3, 4, 5, 6, 7, 8, 9],\n",
       "        [5, 2, 3, 4, 5, 6, 7, 8, 9]])"
      ]
     },
     "execution_count": 114,
     "metadata": {},
     "output_type": "execute_result"
    }
   ],
   "source": [
    "#stacking of tensors on top of each other \n",
    "y_stacked=torch.stack([y,y,y,y,y], dim=0)\n",
    "y_stacked\n"
   ]
  },
  {
   "cell_type": "code",
   "execution_count": 139,
   "id": "090eff1f",
   "metadata": {},
   "outputs": [
    {
     "data": {
      "text/plain": [
       "(tensor([5, 2, 3, 4, 5, 6, 7, 8, 9]), tensor([[5, 2, 3, 4, 5, 6, 7, 8, 9]]))"
      ]
     },
     "execution_count": 139,
     "metadata": {},
     "output_type": "execute_result"
    }
   ],
   "source": [
    "#torch.squeeze()->removes all single dimensions form a target tensor\n",
    "y,y_reshape"
   ]
  },
  {
   "cell_type": "code",
   "execution_count": 140,
   "id": "7e38299f",
   "metadata": {},
   "outputs": [
    {
     "data": {
      "text/plain": [
       "torch.Size([9])"
      ]
     },
     "execution_count": 140,
     "metadata": {},
     "output_type": "execute_result"
    }
   ],
   "source": [
    "z=y_reshape.squeeze()\n",
    "z.shape"
   ]
  },
  {
   "cell_type": "code",
   "execution_count": 141,
   "id": "e3e0e9b4",
   "metadata": {},
   "outputs": [
    {
     "data": {
      "text/plain": [
       "torch.Size([1, 9])"
      ]
     },
     "execution_count": 141,
     "metadata": {},
     "output_type": "execute_result"
    }
   ],
   "source": [
    "y_reshape.shape"
   ]
  },
  {
   "cell_type": "code",
   "execution_count": 149,
   "id": "48f7ac78",
   "metadata": {},
   "outputs": [
    {
     "name": "stdout",
     "output_type": "stream",
     "text": [
      "unsqeezed--------->tensor([[[5, 2, 3, 4, 5, 6, 7, 8, 9]]])\n",
      "shape---->torch.Size([1, 1, 9])\n"
     ]
    }
   ],
   "source": [
    "#unsqueeze\n",
    "y_unsqueezed=y_reshape.unsqueeze(dim=0)\n",
    "print(f'unsqeezed--------->{y_unsqueezed}')\n",
    "print(f\"shape---->{y_unsqueezed.shape}\")"
   ]
  },
  {
   "cell_type": "code",
   "execution_count": 162,
   "id": "f9b81ae3",
   "metadata": {},
   "outputs": [
    {
     "name": "stdout",
     "output_type": "stream",
     "text": [
      "original shape:torch.Size([224, 224, 3])\n",
      "Prmuteed shape:torch.Size([3, 224, 224])\n"
     ]
    }
   ],
   "source": [
    "#torch.permute:rearranges the dimensions of a target tensor in specified order\n",
    "x_original=torch.rand(size=(224,224,3)) #[height,width,channels]\n",
    "\n",
    "#permute the original tensor to rearrange the axis (or dim ) order\n",
    "x_permute=x_original.permute(2,0,1) #shifts axis 0->1, 1->2, 2->0\n",
    "\n",
    "print(f\"original shape:{x_original.shape}\")\n",
    "print(f\"Prmuteed shape:{x_permute.shape}\") #[channels,height,width]\n",
    "\n"
   ]
  },
  {
   "cell_type": "code",
   "execution_count": 163,
   "id": "5e93e842",
   "metadata": {},
   "outputs": [
    {
     "data": {
      "text/plain": [
       "tensor([[[0.7380, 0.9258, 0.7056],\n",
       "         [0.7315, 0.7527, 0.7094],\n",
       "         [0.0859, 0.8625, 0.3171],\n",
       "         ...,\n",
       "         [0.8500, 0.8364, 0.8992],\n",
       "         [0.0386, 0.8796, 0.8176],\n",
       "         [0.6386, 0.8526, 0.7189]],\n",
       "\n",
       "        [[0.2385, 0.8079, 0.5795],\n",
       "         [0.7097, 0.8694, 0.0206],\n",
       "         [0.7070, 0.4874, 0.5615],\n",
       "         ...,\n",
       "         [0.8618, 0.7518, 0.2891],\n",
       "         [0.3988, 0.1034, 0.9230],\n",
       "         [0.6574, 0.7117, 0.4933]],\n",
       "\n",
       "        [[0.4615, 0.7063, 0.0271],\n",
       "         [0.7225, 0.5097, 0.2067],\n",
       "         [0.8263, 0.8290, 0.9008],\n",
       "         ...,\n",
       "         [0.6466, 0.6853, 0.9962],\n",
       "         [0.1850, 0.3892, 0.4753],\n",
       "         [0.6582, 0.6526, 0.0924]],\n",
       "\n",
       "        ...,\n",
       "\n",
       "        [[0.3464, 0.5355, 0.9786],\n",
       "         [0.8736, 0.2360, 0.2733],\n",
       "         [0.9630, 0.1557, 0.3964],\n",
       "         ...,\n",
       "         [0.1705, 0.8334, 0.1263],\n",
       "         [0.4776, 0.3172, 0.7385],\n",
       "         [0.9802, 0.2898, 0.2287]],\n",
       "\n",
       "        [[0.5537, 0.6697, 0.8882],\n",
       "         [0.5123, 0.7865, 0.2839],\n",
       "         [0.1096, 0.1458, 0.7583],\n",
       "         ...,\n",
       "         [0.6694, 0.1587, 0.0655],\n",
       "         [0.3845, 0.1333, 0.6135],\n",
       "         [0.6151, 0.1022, 0.6709]],\n",
       "\n",
       "        [[0.4396, 0.4617, 0.4855],\n",
       "         [0.6343, 0.4195, 0.9279],\n",
       "         [0.0344, 0.7600, 0.7151],\n",
       "         ...,\n",
       "         [0.8509, 0.4944, 0.4045],\n",
       "         [0.2236, 0.2719, 0.7828],\n",
       "         [0.4170, 0.3714, 0.3171]]])"
      ]
     },
     "execution_count": 163,
     "metadata": {},
     "output_type": "execute_result"
    }
   ],
   "source": [
    "x_original"
   ]
  },
  {
   "cell_type": "code",
   "execution_count": 165,
   "id": "a0a7ec73",
   "metadata": {},
   "outputs": [
    {
     "data": {
      "text/plain": [
       "(tensor([[[1, 2, 3],\n",
       "          [4, 5, 6],\n",
       "          [7, 8, 9]]]),\n",
       " torch.Size([1, 3, 3]))"
      ]
     },
     "execution_count": 165,
     "metadata": {},
     "output_type": "execute_result"
    }
   ],
   "source": [
    "#Indexing in tensor(selecting data form tensor)\n",
    "z=torch.arange(1,10).reshape(1,3,3)\n",
    "z,z.shape"
   ]
  },
  {
   "cell_type": "code",
   "execution_count": 167,
   "id": "3b04c1a9",
   "metadata": {},
   "outputs": [
    {
     "name": "stdout",
     "output_type": "stream",
     "text": [
      "tensor([[1, 2, 3],\n",
      "        [4, 5, 6],\n",
      "        [7, 8, 9]])\n",
      "tensor(5)\n",
      "tensor(8)\n",
      "tensor(9)\n"
     ]
    }
   ],
   "source": [
    "print(z[0])\n",
    "print(z[0,1,1])\n",
    "print(z[0,2,1])\n",
    "print(z[0,2,2])\n"
   ]
  },
  {
   "cell_type": "code",
   "execution_count": 171,
   "id": "889e9198",
   "metadata": {},
   "outputs": [
    {
     "data": {
      "text/plain": [
       "tensor([[1, 2, 3]])"
      ]
     },
     "execution_count": 171,
     "metadata": {},
     "output_type": "execute_result"
    }
   ],
   "source": [
    "z[:,0]"
   ]
  },
  {
   "cell_type": "code",
   "execution_count": 174,
   "id": "b5d46e26",
   "metadata": {},
   "outputs": [
    {
     "data": {
      "text/plain": [
       "tensor([[2, 5, 8]])"
      ]
     },
     "execution_count": 174,
     "metadata": {},
     "output_type": "execute_result"
    }
   ],
   "source": [
    "z[:,:,1]"
   ]
  },
  {
   "cell_type": "code",
   "execution_count": 175,
   "id": "50686b54",
   "metadata": {},
   "outputs": [
    {
     "data": {
      "text/plain": [
       "tensor([6])"
      ]
     },
     "execution_count": 175,
     "metadata": {},
     "output_type": "execute_result"
    }
   ],
   "source": [
    "z[:,1,2]"
   ]
  },
  {
   "cell_type": "code",
   "execution_count": 176,
   "id": "514df0a8",
   "metadata": {},
   "outputs": [
    {
     "data": {
      "text/plain": [
       "tensor([[3, 6, 9]])"
      ]
     },
     "execution_count": 176,
     "metadata": {},
     "output_type": "execute_result"
    }
   ],
   "source": [
    "z[:,:,2]"
   ]
  },
  {
   "cell_type": "code",
   "execution_count": 177,
   "id": "4796fb30",
   "metadata": {},
   "outputs": [
    {
     "data": {
      "text/plain": [
       "tensor([1, 2, 3])"
      ]
     },
     "execution_count": 177,
     "metadata": {},
     "output_type": "execute_result"
    }
   ],
   "source": [
    "z[0,0,:]"
   ]
  },
  {
   "cell_type": "code",
   "execution_count": 178,
   "id": "01175b44",
   "metadata": {},
   "outputs": [
    {
     "data": {
      "text/plain": [
       "tensor(9)"
      ]
     },
     "execution_count": 178,
     "metadata": {},
     "output_type": "execute_result"
    }
   ],
   "source": [
    "z[0,2,2]"
   ]
  },
  {
   "cell_type": "code",
   "execution_count": 179,
   "id": "72f9dc51",
   "metadata": {},
   "outputs": [],
   "source": [
    "#Pytorch tensor and numpy\n",
    "#Data in Numpy, want in pytorch tensor------->torch.from_numpy(ndarray)\n",
    "#Pytorch tensor-------->Numpy---------->torch.Tensor.numpy()\n"
   ]
  },
  {
   "cell_type": "code",
   "execution_count": 185,
   "id": "c2abc029",
   "metadata": {},
   "outputs": [
    {
     "data": {
      "text/plain": [
       "(array([1., 2., 3., 4., 5., 6., 7.]), tensor([1., 2., 3., 4., 5., 6., 7.]))"
      ]
     },
     "execution_count": 185,
     "metadata": {},
     "output_type": "execute_result"
    }
   ],
   "source": [
    "#Numpy to tensor\n",
    "import numpy as np\n",
    "array=np.arange(1.0,8.0)\n",
    "tensor=torch.from_numpy(array).type(torch.float32)\n",
    "array,tensor"
   ]
  },
  {
   "cell_type": "code",
   "execution_count": 186,
   "id": "7ba70ece",
   "metadata": {},
   "outputs": [
    {
     "data": {
      "text/plain": [
       "(tensor([1., 1., 1., 1., 1., 1., 1.]),\n",
       " array([1., 1., 1., 1., 1., 1., 1.], dtype=float32))"
      ]
     },
     "execution_count": 186,
     "metadata": {},
     "output_type": "execute_result"
    }
   ],
   "source": [
    "#Tensor to Numpy\n",
    "tensor=torch.ones(7)\n",
    "numpy_tensor=tensor.numpy()\n",
    "tensor,numpy_tensor"
   ]
  },
  {
   "cell_type": "code",
   "execution_count": 1,
   "id": "d665d996",
   "metadata": {},
   "outputs": [
    {
     "name": "stdout",
     "output_type": "stream",
     "text": [
      "tensor([[0.8823, 0.9150, 0.3829, 0.9593],\n",
      "        [0.3904, 0.6009, 0.2566, 0.7936],\n",
      "        [0.9408, 0.1332, 0.9346, 0.5936]])\n",
      "tensor([[0.8823, 0.9150, 0.3829, 0.9593],\n",
      "        [0.3904, 0.6009, 0.2566, 0.7936],\n",
      "        [0.9408, 0.1332, 0.9346, 0.5936]])\n",
      "tensor([[True, True, True, True],\n",
      "        [True, True, True, True],\n",
      "        [True, True, True, True]])\n"
     ]
    }
   ],
   "source": [
    "#Reproducibility in Pytorch(Taking random out of random)\n",
    "import torch\n",
    "RANDOOM_SEED = 42\n",
    "torch.manual_seed(RANDOOM_SEED)\n",
    "random_tensor_A=torch.rand(3,4)\n",
    "\n",
    "torch.manual_seed(RANDOOM_SEED)\n",
    "random_tensor_B=torch.rand(3,4)\n",
    "\n",
    "print(random_tensor_A)\n",
    "print(random_tensor_B)\n",
    "print(random_tensor_A==random_tensor_B)"
   ]
  },
  {
   "cell_type": "code",
   "execution_count": null,
   "id": "8fe159f2",
   "metadata": {},
   "outputs": [],
   "source": []
  },
  {
   "cell_type": "code",
   "execution_count": null,
   "id": "e3ac0ec4",
   "metadata": {},
   "outputs": [],
   "source": []
  }
 ],
 "metadata": {
  "kernelspec": {
   "display_name": "Julia 1.6.7",
   "language": "julia",
   "name": "julia-1.6"
  },
  "language_info": {
   "file_extension": ".jl",
   "mimetype": "application/julia",
   "name": "julia",
   "version": "1.6.7"
  },
  "vscode": {
   "interpreter": {
    "hash": "23a328445d46684d017c222b660eb871615c447968717a64b96d6a5047454ef4"
   }
  }
 },
 "nbformat": 4,
 "nbformat_minor": 5
}
