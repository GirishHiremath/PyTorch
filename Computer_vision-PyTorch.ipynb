{
 "cells": [
  {
   "cell_type": "code",
   "execution_count": 25,
   "metadata": {},
   "outputs": [],
   "source": [
    "#Computer Vision Libaries in PyTorch\n",
    "#torchvision-base domin libary for pytorch computer vision\n",
    "#torchvision.datasets-get datasets and data loading functions for computer vision here\n",
    "#torchvision.models:get pretrained computer vision models that you can leverage for your own problem\n",
    "#torchvision.transforms:functions for manipulating your vision data(images) to be suitable for use with an ML model.\n",
    "#torch.utils.data.Dataset:Base dataset class for PyTorch\n",
    "#torch.utils.data.DataLoader:Creates a python iterable over a dataset"
   ]
  },
  {
   "cell_type": "code",
   "execution_count": 26,
   "metadata": {},
   "outputs": [],
   "source": [
    "# import PyTorch\n",
    "import torch\n",
    "from torch import nn \n",
    "\n",
    "#import torchvision\n",
    "import torchvision\n",
    "from torchvision import datasets\n",
    "from torchvision import transforms\n",
    "from torchvision.transforms import ToTensor\n",
    "\n",
    "# import matplotlib for visualization\n",
    "import matplotlib.pyplot as plt "
   ]
  },
  {
   "cell_type": "code",
   "execution_count": 27,
   "metadata": {},
   "outputs": [
    {
     "name": "stdout",
     "output_type": "stream",
     "text": [
      "1.13.1+cu117\n",
      "0.14.1+cu117\n"
     ]
    }
   ],
   "source": [
    "print(torch.__version__)\n",
    "print(torchvision.__version__)"
   ]
  },
  {
   "cell_type": "code",
   "execution_count": 28,
   "metadata": {},
   "outputs": [],
   "source": [
    "from torchvision import datasets\n",
    "train_data=datasets.FashionMNIST(\n",
    "                        root=\"Root\",\n",
    "                        train=True,\n",
    "                        download=True,\n",
    "                        transform=torchvision.transforms.ToTensor(),\n",
    "                        target_transform=None\n",
    "\n",
    ")\n",
    "\n",
    "test_data=datasets.FashionMNIST(\n",
    "            root=\"Root\",\n",
    "            train=False,\n",
    "            download=True,\n",
    "            transform=ToTensor(),\n",
    "            target_transform=None\n",
    ")"
   ]
  },
  {
   "cell_type": "code",
   "execution_count": 29,
   "metadata": {},
   "outputs": [
    {
     "data": {
      "text/plain": [
       "(tensor([[[0.0000, 0.0000, 0.0000, 0.0000, 0.0000, 0.0000, 0.0000, 0.0000,\n",
       "           0.0000, 0.0000, 0.0000, 0.0000, 0.0000, 0.0000, 0.0000, 0.0000,\n",
       "           0.0000, 0.0000, 0.0000, 0.0000, 0.0000, 0.0000, 0.0000, 0.0000,\n",
       "           0.0000, 0.0000, 0.0000, 0.0000],\n",
       "          [0.0000, 0.0000, 0.0000, 0.0000, 0.0000, 0.0000, 0.0000, 0.0000,\n",
       "           0.0000, 0.0000, 0.0000, 0.0000, 0.0000, 0.0000, 0.0000, 0.0000,\n",
       "           0.0000, 0.0000, 0.0000, 0.0000, 0.0000, 0.0000, 0.0000, 0.0000,\n",
       "           0.0000, 0.0000, 0.0000, 0.0000],\n",
       "          [0.0000, 0.0000, 0.0000, 0.0000, 0.0000, 0.0000, 0.0000, 0.0000,\n",
       "           0.0000, 0.0000, 0.0000, 0.0000, 0.0000, 0.0000, 0.0000, 0.0000,\n",
       "           0.0000, 0.0000, 0.0000, 0.0000, 0.0000, 0.0000, 0.0000, 0.0000,\n",
       "           0.0000, 0.0000, 0.0000, 0.0000],\n",
       "          [0.0000, 0.0000, 0.0000, 0.0000, 0.0000, 0.0000, 0.0000, 0.0000,\n",
       "           0.0000, 0.0000, 0.0000, 0.0000, 0.0039, 0.0000, 0.0000, 0.0510,\n",
       "           0.2863, 0.0000, 0.0000, 0.0039, 0.0157, 0.0000, 0.0000, 0.0000,\n",
       "           0.0000, 0.0039, 0.0039, 0.0000],\n",
       "          [0.0000, 0.0000, 0.0000, 0.0000, 0.0000, 0.0000, 0.0000, 0.0000,\n",
       "           0.0000, 0.0000, 0.0000, 0.0000, 0.0118, 0.0000, 0.1412, 0.5333,\n",
       "           0.4980, 0.2431, 0.2118, 0.0000, 0.0000, 0.0000, 0.0039, 0.0118,\n",
       "           0.0157, 0.0000, 0.0000, 0.0118],\n",
       "          [0.0000, 0.0000, 0.0000, 0.0000, 0.0000, 0.0000, 0.0000, 0.0000,\n",
       "           0.0000, 0.0000, 0.0000, 0.0000, 0.0235, 0.0000, 0.4000, 0.8000,\n",
       "           0.6902, 0.5255, 0.5647, 0.4824, 0.0902, 0.0000, 0.0000, 0.0000,\n",
       "           0.0000, 0.0471, 0.0392, 0.0000],\n",
       "          [0.0000, 0.0000, 0.0000, 0.0000, 0.0000, 0.0000, 0.0000, 0.0000,\n",
       "           0.0000, 0.0000, 0.0000, 0.0000, 0.0000, 0.0000, 0.6078, 0.9255,\n",
       "           0.8118, 0.6980, 0.4196, 0.6118, 0.6314, 0.4275, 0.2510, 0.0902,\n",
       "           0.3020, 0.5098, 0.2824, 0.0588],\n",
       "          [0.0000, 0.0000, 0.0000, 0.0000, 0.0000, 0.0000, 0.0000, 0.0000,\n",
       "           0.0000, 0.0000, 0.0000, 0.0039, 0.0000, 0.2706, 0.8118, 0.8745,\n",
       "           0.8549, 0.8471, 0.8471, 0.6392, 0.4980, 0.4745, 0.4784, 0.5725,\n",
       "           0.5529, 0.3451, 0.6745, 0.2588],\n",
       "          [0.0000, 0.0000, 0.0000, 0.0000, 0.0000, 0.0000, 0.0000, 0.0000,\n",
       "           0.0000, 0.0039, 0.0039, 0.0039, 0.0000, 0.7843, 0.9098, 0.9098,\n",
       "           0.9137, 0.8980, 0.8745, 0.8745, 0.8431, 0.8353, 0.6431, 0.4980,\n",
       "           0.4824, 0.7686, 0.8980, 0.0000],\n",
       "          [0.0000, 0.0000, 0.0000, 0.0000, 0.0000, 0.0000, 0.0000, 0.0000,\n",
       "           0.0000, 0.0000, 0.0000, 0.0000, 0.0000, 0.7176, 0.8824, 0.8471,\n",
       "           0.8745, 0.8941, 0.9216, 0.8902, 0.8784, 0.8706, 0.8784, 0.8667,\n",
       "           0.8745, 0.9608, 0.6784, 0.0000],\n",
       "          [0.0000, 0.0000, 0.0000, 0.0000, 0.0000, 0.0000, 0.0000, 0.0000,\n",
       "           0.0000, 0.0000, 0.0000, 0.0000, 0.0000, 0.7569, 0.8941, 0.8549,\n",
       "           0.8353, 0.7765, 0.7059, 0.8314, 0.8235, 0.8275, 0.8353, 0.8745,\n",
       "           0.8627, 0.9529, 0.7922, 0.0000],\n",
       "          [0.0000, 0.0000, 0.0000, 0.0000, 0.0000, 0.0000, 0.0000, 0.0000,\n",
       "           0.0000, 0.0039, 0.0118, 0.0000, 0.0471, 0.8588, 0.8627, 0.8314,\n",
       "           0.8549, 0.7529, 0.6627, 0.8902, 0.8157, 0.8549, 0.8784, 0.8314,\n",
       "           0.8863, 0.7725, 0.8196, 0.2039],\n",
       "          [0.0000, 0.0000, 0.0000, 0.0000, 0.0000, 0.0000, 0.0000, 0.0000,\n",
       "           0.0000, 0.0000, 0.0235, 0.0000, 0.3882, 0.9569, 0.8706, 0.8627,\n",
       "           0.8549, 0.7961, 0.7765, 0.8667, 0.8431, 0.8353, 0.8706, 0.8627,\n",
       "           0.9608, 0.4667, 0.6549, 0.2196],\n",
       "          [0.0000, 0.0000, 0.0000, 0.0000, 0.0000, 0.0000, 0.0000, 0.0000,\n",
       "           0.0000, 0.0157, 0.0000, 0.0000, 0.2157, 0.9255, 0.8941, 0.9020,\n",
       "           0.8941, 0.9412, 0.9098, 0.8353, 0.8549, 0.8745, 0.9176, 0.8510,\n",
       "           0.8510, 0.8196, 0.3608, 0.0000],\n",
       "          [0.0000, 0.0000, 0.0039, 0.0157, 0.0235, 0.0275, 0.0078, 0.0000,\n",
       "           0.0000, 0.0000, 0.0000, 0.0000, 0.9294, 0.8863, 0.8510, 0.8745,\n",
       "           0.8706, 0.8588, 0.8706, 0.8667, 0.8471, 0.8745, 0.8980, 0.8431,\n",
       "           0.8549, 1.0000, 0.3020, 0.0000],\n",
       "          [0.0000, 0.0118, 0.0000, 0.0000, 0.0000, 0.0000, 0.0000, 0.0000,\n",
       "           0.0000, 0.2431, 0.5686, 0.8000, 0.8941, 0.8118, 0.8353, 0.8667,\n",
       "           0.8549, 0.8157, 0.8275, 0.8549, 0.8784, 0.8745, 0.8588, 0.8431,\n",
       "           0.8784, 0.9569, 0.6235, 0.0000],\n",
       "          [0.0000, 0.0000, 0.0000, 0.0000, 0.0706, 0.1725, 0.3216, 0.4196,\n",
       "           0.7412, 0.8941, 0.8627, 0.8706, 0.8510, 0.8863, 0.7843, 0.8039,\n",
       "           0.8275, 0.9020, 0.8784, 0.9176, 0.6902, 0.7373, 0.9804, 0.9725,\n",
       "           0.9137, 0.9333, 0.8431, 0.0000],\n",
       "          [0.0000, 0.2235, 0.7333, 0.8157, 0.8784, 0.8667, 0.8784, 0.8157,\n",
       "           0.8000, 0.8392, 0.8157, 0.8196, 0.7843, 0.6235, 0.9608, 0.7569,\n",
       "           0.8078, 0.8745, 1.0000, 1.0000, 0.8667, 0.9176, 0.8667, 0.8275,\n",
       "           0.8627, 0.9098, 0.9647, 0.0000],\n",
       "          [0.0118, 0.7922, 0.8941, 0.8784, 0.8667, 0.8275, 0.8275, 0.8392,\n",
       "           0.8039, 0.8039, 0.8039, 0.8627, 0.9412, 0.3137, 0.5882, 1.0000,\n",
       "           0.8980, 0.8667, 0.7373, 0.6039, 0.7490, 0.8235, 0.8000, 0.8196,\n",
       "           0.8706, 0.8941, 0.8824, 0.0000],\n",
       "          [0.3843, 0.9137, 0.7765, 0.8235, 0.8706, 0.8980, 0.8980, 0.9176,\n",
       "           0.9765, 0.8627, 0.7608, 0.8431, 0.8510, 0.9451, 0.2549, 0.2863,\n",
       "           0.4157, 0.4588, 0.6588, 0.8588, 0.8667, 0.8431, 0.8510, 0.8745,\n",
       "           0.8745, 0.8784, 0.8980, 0.1137],\n",
       "          [0.2941, 0.8000, 0.8314, 0.8000, 0.7569, 0.8039, 0.8275, 0.8824,\n",
       "           0.8471, 0.7255, 0.7725, 0.8078, 0.7765, 0.8353, 0.9412, 0.7647,\n",
       "           0.8902, 0.9608, 0.9373, 0.8745, 0.8549, 0.8314, 0.8196, 0.8706,\n",
       "           0.8627, 0.8667, 0.9020, 0.2627],\n",
       "          [0.1882, 0.7961, 0.7176, 0.7608, 0.8353, 0.7725, 0.7255, 0.7451,\n",
       "           0.7608, 0.7529, 0.7922, 0.8392, 0.8588, 0.8667, 0.8627, 0.9255,\n",
       "           0.8824, 0.8471, 0.7804, 0.8078, 0.7294, 0.7098, 0.6941, 0.6745,\n",
       "           0.7098, 0.8039, 0.8078, 0.4510],\n",
       "          [0.0000, 0.4784, 0.8588, 0.7569, 0.7020, 0.6706, 0.7176, 0.7686,\n",
       "           0.8000, 0.8235, 0.8353, 0.8118, 0.8275, 0.8235, 0.7843, 0.7686,\n",
       "           0.7608, 0.7490, 0.7647, 0.7490, 0.7765, 0.7529, 0.6902, 0.6118,\n",
       "           0.6549, 0.6941, 0.8235, 0.3608],\n",
       "          [0.0000, 0.0000, 0.2902, 0.7412, 0.8314, 0.7490, 0.6863, 0.6745,\n",
       "           0.6863, 0.7098, 0.7255, 0.7373, 0.7412, 0.7373, 0.7569, 0.7765,\n",
       "           0.8000, 0.8196, 0.8235, 0.8235, 0.8275, 0.7373, 0.7373, 0.7608,\n",
       "           0.7529, 0.8471, 0.6667, 0.0000],\n",
       "          [0.0078, 0.0000, 0.0000, 0.0000, 0.2588, 0.7843, 0.8706, 0.9294,\n",
       "           0.9373, 0.9490, 0.9647, 0.9529, 0.9569, 0.8667, 0.8627, 0.7569,\n",
       "           0.7490, 0.7020, 0.7137, 0.7137, 0.7098, 0.6902, 0.6510, 0.6588,\n",
       "           0.3882, 0.2275, 0.0000, 0.0000],\n",
       "          [0.0000, 0.0000, 0.0000, 0.0000, 0.0000, 0.0000, 0.0000, 0.1569,\n",
       "           0.2392, 0.1725, 0.2824, 0.1608, 0.1373, 0.0000, 0.0000, 0.0000,\n",
       "           0.0000, 0.0000, 0.0000, 0.0000, 0.0000, 0.0000, 0.0000, 0.0000,\n",
       "           0.0000, 0.0000, 0.0000, 0.0000],\n",
       "          [0.0000, 0.0000, 0.0000, 0.0000, 0.0000, 0.0000, 0.0000, 0.0000,\n",
       "           0.0000, 0.0000, 0.0000, 0.0000, 0.0000, 0.0000, 0.0000, 0.0000,\n",
       "           0.0000, 0.0000, 0.0000, 0.0000, 0.0000, 0.0000, 0.0000, 0.0000,\n",
       "           0.0000, 0.0000, 0.0000, 0.0000],\n",
       "          [0.0000, 0.0000, 0.0000, 0.0000, 0.0000, 0.0000, 0.0000, 0.0000,\n",
       "           0.0000, 0.0000, 0.0000, 0.0000, 0.0000, 0.0000, 0.0000, 0.0000,\n",
       "           0.0000, 0.0000, 0.0000, 0.0000, 0.0000, 0.0000, 0.0000, 0.0000,\n",
       "           0.0000, 0.0000, 0.0000, 0.0000]]]),\n",
       " 9)"
      ]
     },
     "execution_count": 29,
     "metadata": {},
     "output_type": "execute_result"
    }
   ],
   "source": [
    "image,label=train_data[0]\n",
    "image,label"
   ]
  },
  {
   "cell_type": "code",
   "execution_count": 30,
   "metadata": {},
   "outputs": [
    {
     "data": {
      "text/plain": [
       "['T-shirt/top',\n",
       " 'Trouser',\n",
       " 'Pullover',\n",
       " 'Dress',\n",
       " 'Coat',\n",
       " 'Sandal',\n",
       " 'Shirt',\n",
       " 'Sneaker',\n",
       " 'Bag',\n",
       " 'Ankle boot']"
      ]
     },
     "execution_count": 30,
     "metadata": {},
     "output_type": "execute_result"
    }
   ],
   "source": [
    "class_name=train_data.classes\n",
    "class_name"
   ]
  },
  {
   "cell_type": "code",
   "execution_count": 31,
   "metadata": {},
   "outputs": [
    {
     "data": {
      "text/plain": [
       "{'T-shirt/top': 0,\n",
       " 'Trouser': 1,\n",
       " 'Pullover': 2,\n",
       " 'Dress': 3,\n",
       " 'Coat': 4,\n",
       " 'Sandal': 5,\n",
       " 'Shirt': 6,\n",
       " 'Sneaker': 7,\n",
       " 'Bag': 8,\n",
       " 'Ankle boot': 9}"
      ]
     },
     "execution_count": 31,
     "metadata": {},
     "output_type": "execute_result"
    }
   ],
   "source": [
    "class_to_idx=train_data.class_to_idx\n",
    "class_to_idx"
   ]
  },
  {
   "cell_type": "code",
   "execution_count": 32,
   "metadata": {},
   "outputs": [
    {
     "data": {
      "text/plain": [
       "tensor([9, 0, 0,  ..., 3, 0, 5])"
      ]
     },
     "execution_count": 32,
     "metadata": {},
     "output_type": "execute_result"
    }
   ],
   "source": [
    "train_data.targets"
   ]
  },
  {
   "cell_type": "code",
   "execution_count": 33,
   "metadata": {},
   "outputs": [
    {
     "data": {
      "text/plain": [
       "(torch.Size([1, 28, 28]), 'Ankle boot')"
      ]
     },
     "execution_count": 33,
     "metadata": {},
     "output_type": "execute_result"
    }
   ],
   "source": [
    "image.shape,class_name[label]"
   ]
  },
  {
   "cell_type": "code",
   "execution_count": 34,
   "metadata": {},
   "outputs": [
    {
     "name": "stdout",
     "output_type": "stream",
     "text": [
      "Shape of the image:torch.Size([1, 28, 28])\n"
     ]
    },
    {
     "data": {
      "text/plain": [
       "Text(0.5, 1.0, 'Ankle boot')"
      ]
     },
     "execution_count": 34,
     "metadata": {},
     "output_type": "execute_result"
    },
    {
     "data": {
      "image/png": "[encoded data removed]",
      "text/plain": [
       "<Figure size 640x480 with 1 Axes>"
      ]
     },
     "metadata": {},
     "output_type": "display_data"
    }
   ],
   "source": [
    "#Visualizing our data\n",
    "import matplotlib.pyplot as plt \n",
    "image,label=train_data[0]\n",
    "print(f\"Shape of the image:{image.shape}\")\n",
    "plt.imshow(image.squeeze())\n",
    "plt.title(class_name[label])"
   ]
  },
  {
   "cell_type": "code",
   "execution_count": 35,
   "metadata": {},
   "outputs": [
    {
     "data": {
      "text/plain": [
       "(-0.5, 27.5, 27.5, -0.5)"
      ]
     },
     "execution_count": 35,
     "metadata": {},
     "output_type": "execute_result"
    },
    {
     "data": {
      "image/png": "[encoded data removed]",
      "text/plain": [
       "<Figure size 640x480 with 1 Axes>"
      ]
     },
     "metadata": {},
     "output_type": "display_data"
    }
   ],
   "source": [
    "plt.imshow(image.squeeze(),cmap=\"gray\")\n",
    "plt.title(class_name[label])\n",
    "plt.axis(False)"
   ]
  },
  {
   "cell_type": "code",
   "execution_count": 36,
   "metadata": {},
   "outputs": [
    {
     "data": {
      "image/png": "[encoded data removed]",
      "text/plain": [
       "<Figure size 900x900 with 16 Axes>"
      ]
     },
     "metadata": {},
     "output_type": "display_data"
    }
   ],
   "source": [
    "#plot more data\n",
    "torch.manual_seed(42)\n",
    "fig=plt.figure(figsize=(9,9))\n",
    "rows,cols=4,4\n",
    "for i in range(1,rows*cols+1):\n",
    "    random_idx=torch.randint(0,len(train_data),size=[1]).item()\n",
    "    img,label=train_data[random_idx]\n",
    "    fig.add_subplot(rows,cols,i)\n",
    "    plt.imshow(img.squeeze(),cmap=\"gray\")\n",
    "    plt.title(class_name[label])\n",
    "    plt.axis(False)"
   ]
  },
  {
   "cell_type": "code",
   "execution_count": 37,
   "metadata": {},
   "outputs": [
    {
     "data": {
      "text/plain": [
       "(Dataset FashionMNIST\n",
       "     Number of datapoints: 60000\n",
       "     Root location: Root\n",
       "     Split: Train\n",
       "     StandardTransform\n",
       " Transform: ToTensor(),\n",
       " Dataset FashionMNIST\n",
       "     Number of datapoints: 10000\n",
       "     Root location: Root\n",
       "     Split: Test\n",
       "     StandardTransform\n",
       " Transform: ToTensor())"
      ]
     },
     "execution_count": 37,
     "metadata": {},
     "output_type": "execute_result"
    }
   ],
   "source": [
    "train_data,test_data"
   ]
  },
  {
   "cell_type": "code",
   "execution_count": 38,
   "metadata": {},
   "outputs": [],
   "source": [
    "#Prepare DataLoader\n",
    "#Right now, our data is in form of PyTorch Datasets.\n",
    "#DataLoader turns our data into a python iterable.\n",
    "#More Specifically, we want to turn our data into batches(mini batches).\n",
    "\n",
    "#Why do we need this?\n",
    "#1. It is more computationally efficient, as in, your computing hardware may not be able to look (store in memory) at 60000 images\n",
    "#in one hit. So we break it down to 32 images at a time(batch size of 32). \n",
    "#It gives our neural network more chances to update its gradients per epoch.\n"
   ]
  },
  {
   "cell_type": "code",
   "execution_count": 39,
   "metadata": {},
   "outputs": [],
   "source": [
    "from torch.utils.data import DataLoader\n",
    "\n",
    "\n",
    "#Setup batch size hyperparameter\n",
    "BATCH_SIZE=32\n",
    "#Turn datasets into iterables(batchs)\n",
    "train_dataloader=DataLoader(dataset=train_data,\n",
    "                            batch_size=BATCH_SIZE,\n",
    "                            shuffle=True)\n",
    "\n",
    "test_dataloader=DataLoader(dataset=test_data,\n",
    "                           batch_size=BATCH_SIZE,\n",
    "                           shuffle=False)"
   ]
  },
  {
   "cell_type": "code",
   "execution_count": 40,
   "metadata": {},
   "outputs": [
    {
     "name": "stdout",
     "output_type": "stream",
     "text": [
      "DataLoaders:(<torch.utils.data.dataloader.DataLoader object at 0x7f2c70479310>, <torch.utils.data.dataloader.DataLoader object at 0x7f2c703f3f70>)\n",
      "Length of train_dataloader:1875 batchs of 32\n",
      "Length of test DataLoader:313 batchs of 32\n"
     ]
    }
   ],
   "source": [
    "#let's checkout what we've created \n",
    "print(f\"DataLoaders:{train_dataloader,test_dataloader}\")\n",
    "print(f\"Length of train_dataloader:{len(train_dataloader)} batchs of {BATCH_SIZE}\")\n",
    "print(f\"Length of test DataLoader:{len(test_dataloader)} batchs of {BATCH_SIZE}\")"
   ]
  },
  {
   "cell_type": "code",
   "execution_count": 41,
   "metadata": {},
   "outputs": [
    {
     "data": {
      "text/plain": [
       "(torch.Size([32, 1, 28, 28]), torch.Size([32]))"
      ]
     },
     "execution_count": 41,
     "metadata": {},
     "output_type": "execute_result"
    }
   ],
   "source": [
    "#Checkout what's inside the training dataloader\n",
    "train_feature_batch,train_labels_batch=next(iter(train_dataloader))\n",
    "train_feature_batch.shape,train_labels_batch.shape"
   ]
  },
  {
   "cell_type": "code",
   "execution_count": 42,
   "metadata": {},
   "outputs": [
    {
     "name": "stdout",
     "output_type": "stream",
     "text": [
      "Image size:torch.Size([1, 28, 28])\n",
      "Label:8,label size:torch.Size([])\n"
     ]
    },
    {
     "data": {
      "image/png": "[encoded data removed]",
      "text/plain": [
       "<Figure size 640x480 with 1 Axes>"
      ]
     },
     "metadata": {},
     "output_type": "display_data"
    }
   ],
   "source": [
    "#torch.manual_seed(42)\n",
    "random_idx=torch.randint(0,len(train_feature_batch),size=[1]).item()\n",
    "img,label=train_feature_batch[random_idx],train_labels_batch[random_idx]\n",
    "plt.imshow(img.squeeze(),cmap=\"gray\")\n",
    "plt.title(class_name[label])\n",
    "plt.axis(False)\n",
    "print(f\"Image size:{img.shape}\")\n",
    "print(f\"Label:{label},label size:{label.shape}\")\n"
   ]
  },
  {
   "cell_type": "code",
   "execution_count": 43,
   "metadata": {},
   "outputs": [],
   "source": [
    "#Model 0:Buid a baseline model\n",
    "#when starting to build a series of machine learning modelling experiements,it's best parctice to start with a baseline model.\n",
    "#A baseline model is a simple model you will try and improve upon with subsquent models/experiments\n",
    "#in other words: Start simply and add complexity when necessary.\n",
    "\n",
    " "
   ]
  },
  {
   "cell_type": "code",
   "execution_count": 44,
   "metadata": {},
   "outputs": [
    {
     "name": "stdout",
     "output_type": "stream",
     "text": [
      "Shape before flattening:torch.Size([1, 28, 28])\n",
      "Shape after flattening:torch.Size([1, 784])\n"
     ]
    }
   ],
   "source": [
    "#create a flatten layer\n",
    "flatten_model=nn.Flatten()\n",
    "#get a single sample\n",
    "x=train_feature_batch[0]\n",
    "\n",
    "#Flatten the sample\n",
    "output=flatten_model(x) #perform forward pass\n",
    "\n",
    "#Print what happened\n",
    "print(f\"Shape before flattening:{x.shape}\") #------>[colour_channel,height,width]\n",
    "print(f\"Shape after flattening:{output.shape}\") #----->[color_channel,height*width]\n",
    "\n",
    "\n",
    "\n",
    "\n"
   ]
  },
  {
   "cell_type": "code",
   "execution_count": 45,
   "metadata": {},
   "outputs": [],
   "source": [
    "from torch import nn\n",
    "class FashionMNISTModelV0(nn.Module):\n",
    "    def __init__(self,\n",
    "                 input_shape:int,\n",
    "                 hidden_shape:int,\n",
    "                 output_shape:int):\n",
    "        super().__init__()\n",
    "        self.layer_stack=nn.Sequential(\n",
    "            nn.Flatten(),\n",
    "            nn.Linear(in_features=input_shape,out_features=hidden_shape),\n",
    "            nn.Linear(in_features=hidden_shape,out_features=output_shape)\n",
    "        )\n",
    "    \n",
    "    def forward(self,x):\n",
    "        return self.layer_stack(x)"
   ]
  },
  {
   "cell_type": "code",
   "execution_count": 46,
   "metadata": {},
   "outputs": [
    {
     "data": {
      "text/plain": [
       "FashionMNISTModelV0(\n",
       "  (layer_stack): Sequential(\n",
       "    (0): Flatten(start_dim=1, end_dim=-1)\n",
       "    (1): Linear(in_features=784, out_features=10, bias=True)\n",
       "    (2): Linear(in_features=10, out_features=10, bias=True)\n",
       "  )\n",
       ")"
      ]
     },
     "execution_count": 46,
     "metadata": {},
     "output_type": "execute_result"
    }
   ],
   "source": [
    "torch.manual_seed(42)\n",
    "#setup model with input parameters\n",
    "model_0=FashionMNISTModelV0(\n",
    "    input_shape=28*28, #this is 28*28\n",
    "    hidden_shape=10, #how many units in tne hidden layer\n",
    "    output_shape=len(class_name)#one for every class\n",
    ").to(\"cpu\")\n",
    "\n",
    "model_0"
   ]
  },
  {
   "cell_type": "code",
   "execution_count": 47,
   "metadata": {},
   "outputs": [
    {
     "name": "stdout",
     "output_type": "stream",
     "text": [
      "Donunloading helper_function.py\n"
     ]
    }
   ],
   "source": [
    "import requests\n",
    "from pathlib import Path\n",
    "\n",
    "if Path(\"Helper_functions.py\").is_file():\n",
    "    print(\"Helper_function.py already exist\")\n",
    "    \n",
    "else:\n",
    "    print(\"Donunloading helper_function.py\")\n",
    "    request=requests.get(\"https://raw.githubusercontent.com/mrdbourke/pytorch-deep-learning/main/helper_functions.py\")\n",
    "    with open(\"helper_function.py\",\"wb\") as f:\n",
    "        f.write(request.content)"
   ]
  },
  {
   "cell_type": "code",
   "execution_count": 48,
   "metadata": {},
   "outputs": [],
   "source": [
    "#Import accuracy matrics\n",
    "from helper_function import accuracy_fn\n",
    "\n",
    "#setup loss function\n",
    "loss_fn=nn.CrossEntropyLoss()\n",
    "\n",
    "#optimizer\n",
    "optimizer=torch.optim.SGD(params=model_0.parameters(),lr=0.1)"
   ]
  },
  {
   "cell_type": "code",
   "execution_count": 49,
   "metadata": {},
   "outputs": [],
   "source": [
    "#Creating a function to time our experiments\n",
    "#Machine learning is very experemental\n",
    "#Two of main things you'll often want to track are:\n",
    "        #1.Model's Performance(loss and accuracy values etc)\n",
    "        #2.How fast it runs"
   ]
  },
  {
   "cell_type": "code",
   "execution_count": 50,
   "metadata": {},
   "outputs": [],
   "source": [
    "from timeit import default_timer as timer \n",
    "def print_train_time(start:float,\n",
    "                     end:float,\n",
    "                     device:torch.device=None):\n",
    "    \"\"\"Prints difference between start and end time....\"\"\"\n",
    "    total_time=end-start\n",
    "    print(f\"Train time on :{device}:{total_time:.3f} seconds\")\n",
    "    return total_time"
   ]
  },
  {
   "cell_type": "code",
   "execution_count": 51,
   "metadata": {},
   "outputs": [],
   "source": [
    "#Creating a training loop and training model on batches of data......\n",
    "#Highlight that the optimizer will update a model's parameters once per batch rather then once per epoch."
   ]
  },
  {
   "cell_type": "code",
   "execution_count": 52,
   "metadata": {},
   "outputs": [],
   "source": [
    "#1.Loop through epochs\n",
    "#2.Loop through training batches,perform training steps,calculate the train loss per batch.\n",
    "#3.Loop through testing batches,perform testing steps,calculate the test loss per batch.\n",
    "#4.Print out what's happening\n",
    "#5.Time it all"
   ]
  },
  {
   "cell_type": "code",
   "execution_count": 53,
   "metadata": {},
   "outputs": [
    {
     "name": "stderr",
     "output_type": "stream",
     "text": [
      "100%|██████████| 9/9 [00:00<00:00, 28554.26it/s]"
     ]
    },
    {
     "name": "stdout",
     "output_type": "stream",
     "text": [
      "1\n",
      "2\n",
      "3\n",
      "4\n",
      "5\n",
      "6\n",
      "7\n",
      "8\n",
      "9\n"
     ]
    },
    {
     "name": "stderr",
     "output_type": "stream",
     "text": [
      "\n"
     ]
    }
   ],
   "source": [
    "from tqdm.auto import tqdm\n",
    "for i in tqdm(range(1,10)):\n",
    "    print(i)"
   ]
  },
  {
   "cell_type": "code",
   "execution_count": 54,
   "metadata": {},
   "outputs": [
    {
     "name": "stderr",
     "output_type": "stream",
     "text": [
      "  0%|          | 0/2 [00:00<?, ?it/s]"
     ]
    },
    {
     "name": "stdout",
     "output_type": "stream",
     "text": [
      "Epoch:0\n",
      ".............\n",
      "Looked at 0/60000 samples.\n",
      "Looked at 12800/60000 samples.\n",
      "Looked at 25600/60000 samples.\n",
      "Looked at 38400/60000 samples.\n",
      "Looked at 51200/60000 samples.\n"
     ]
    },
    {
     "name": "stderr",
     "output_type": "stream",
     "text": [
      " 50%|█████     | 1/2 [00:19<00:19, 19.86s/it]"
     ]
    },
    {
     "name": "stdout",
     "output_type": "stream",
     "text": [
      "\n",
      "Train loss:0.5904 Train acc:79.1717 Test loss:0.5095 Test acc:82.0387\n",
      "Epoch:1\n",
      ".............\n",
      "Looked at 0/60000 samples.\n",
      "Looked at 12800/60000 samples.\n",
      "Looked at 25600/60000 samples.\n",
      "Looked at 38400/60000 samples.\n",
      "Looked at 51200/60000 samples.\n"
     ]
    },
    {
     "name": "stderr",
     "output_type": "stream",
     "text": [
      "100%|██████████| 2/2 [00:38<00:00, 19.39s/it]"
     ]
    },
    {
     "name": "stdout",
     "output_type": "stream",
     "text": [
      "\n",
      "Train loss:0.4763 Train acc:83.3200 Test loss:0.4799 Test acc:83.1969\n",
      "Train time on :cpu:38.780 seconds\n"
     ]
    },
    {
     "name": "stderr",
     "output_type": "stream",
     "text": [
      "\n"
     ]
    }
   ],
   "source": [
    "#import tqdm for progress bar\n",
    "from tqdm.auto import tqdm\n",
    "\n",
    "#Set the seed and start the timer\n",
    "torch.manual_seed(42)\n",
    "train_time_start_on_cpu=timer()\n",
    "\n",
    "#set the number of epochs\n",
    "Epochs=2\n",
    "\n",
    "#Create training and test loop\n",
    "for epoch in tqdm(range(Epochs)):\n",
    "    print(f\"Epoch:{epoch}\\n.............\")\n",
    "    \n",
    "    #Training \n",
    "    train_loss,train_acc=0,0\n",
    "    for batch, (X,y) in enumerate(train_dataloader):\n",
    "        model_0.train()\n",
    "        #1.Forward pass\n",
    "        y_pred=model_0(X)\n",
    "        \n",
    "        #2.calculate the loss\n",
    "        loss=loss_fn(y_pred,y)\n",
    "        train_loss+=loss #accumulate train loss\n",
    "       \n",
    "        acc=accuracy_fn(y_true=y,y_pred=y_pred.argmax(dim=1))\n",
    "        train_acc+=acc\n",
    "        \n",
    "        \n",
    "        #3.Optimizer to zero grads\n",
    "        optimizer.zero_grad()\n",
    "        \n",
    "        #4.loss backward\n",
    "        loss.backward()\n",
    "        \n",
    "        #5.Optimizer step\n",
    "        optimizer.step()\n",
    "        \n",
    "        #printout what's happenning\n",
    "        if batch%400==0:\n",
    "            print(f\"Looked at {batch * len(X)}/{len(train_dataloader.dataset)} samples.\")\n",
    "    \n",
    "    #Divide total train loss by length of train dataloader \n",
    "    train_loss /=len(train_dataloader) \n",
    "    train_acc /=len(train_dataloader)\n",
    "    \n",
    "    \n",
    "    #Testing\n",
    "    test_loss,test_acc=0,0\n",
    "    model_0.eval()\n",
    "    with torch.inference_mode():\n",
    "        for X_test,y_test in test_dataloader:\n",
    "            #1.Forward pass\n",
    "            test_pred=model_0(X_test)\n",
    "            \n",
    "            #2.Calculate the loss\n",
    "            loss=loss_fn(test_pred,y_test)\n",
    "            test_loss+=loss\n",
    "            \n",
    "            #3.Calculate the accuracy\n",
    "            test_acc+=accuracy_fn(y_true=y_test,y_pred=test_pred.argmax(dim=1))\n",
    "            \n",
    "            \n",
    "        #Calculate the test loss average per batch\n",
    "        test_loss /=len(test_dataloader)\n",
    "        \n",
    "        #Calculate the test accuracy average per batch\n",
    "        test_acc /=len(test_dataloader)\n",
    "        \n",
    "    #print what's happening\n",
    "    print(f\"\\nTrain loss:{train_loss:.4f} Train acc:{train_acc:.4f} Test loss:{test_loss:.4f} Test acc:{test_acc:.4f}\")\n",
    "\n",
    "#Calculate the training time\n",
    "train_time_end_on_cpu=timer()\n",
    "total_train_time_model_0=print_train_time(start=train_time_start_on_cpu,\n",
    "                                          end=train_time_end_on_cpu,\n",
    "                                          device=str(next(model_0.parameters()).device))\n",
    "            \n",
    "            \n",
    "            \n",
    "            \n",
    "            \n",
    "            \n",
    "                \n",
    "    \n",
    "    "
   ]
  },
  {
   "cell_type": "code",
   "execution_count": 55,
   "metadata": {},
   "outputs": [
    {
     "name": "stderr",
     "output_type": "stream",
     "text": [
      "100%|██████████| 313/313 [00:02<00:00, 134.49it/s]\n"
     ]
    },
    {
     "data": {
      "text/plain": [
       "{'model_name': 'FashionMNISTModelV0',\n",
       " 'model_loss': 0.4798900783061981,\n",
       " 'moel_acc': 83.19688498402556}"
      ]
     },
     "execution_count": 55,
     "metadata": {},
     "output_type": "execute_result"
    }
   ],
   "source": [
    "#Making predictions and get Model0 results\n",
    "torch.manual_seed(42)\n",
    "def eval_model(model:torch.nn.Module,\n",
    "               data_loader:torch.utils.data.DataLoader,\n",
    "               loss_fn:loss_fn,\n",
    "               accuracy_fn):\n",
    "    \"\"\"Returns a dictionay containing the results of model predicting on data_loader\"\"\"\n",
    "    \n",
    "    loss,acc=0,0\n",
    "    model.eval()\n",
    "    with torch.inference_mode():\n",
    "        for X,y in tqdm(data_loader):\n",
    "            #Make predictions\n",
    "            y_pred=model(X)\n",
    "            \n",
    "            #Accumulate the loss and acc valuse per batch\n",
    "            loss+=loss_fn(y_pred,y)\n",
    "            acc+=accuracy_fn(y_true=y,y_pred=y_pred.argmax(dim=1))\n",
    "            \n",
    "        #Scale loss and acc to find the average loss/acc per batch\n",
    "        loss /=len(data_loader)\n",
    "        acc /=len(data_loader)\n",
    "    \n",
    "    return {\"model_name\":model.__class__.__name__,#only works when model was created with class\n",
    "            \"model_loss\":loss.item(),\n",
    "            \"moel_acc\":acc}\n",
    "    \n",
    "model_0_result=eval_model(model=model_0,\n",
    "                          data_loader=test_dataloader,\n",
    "                          loss_fn=loss_fn,\n",
    "                          accuracy_fn=accuracy_fn)\n",
    "\n",
    "model_0_result\n",
    "        \n",
    "    \n",
    "            "
   ]
  },
  {
   "cell_type": "code",
   "execution_count": 56,
   "metadata": {},
   "outputs": [
    {
     "data": {
      "text/plain": [
       "'cpu'"
      ]
     },
     "execution_count": 56,
     "metadata": {},
     "output_type": "execute_result"
    }
   ],
   "source": [
    "#setup device-agnostic code\n",
    "import torch\n",
    "device=\"Cuda\" if torch.cuda.is_available() else \"cpu\"\n",
    "device"
   ]
  },
  {
   "cell_type": "code",
   "execution_count": 57,
   "metadata": {},
   "outputs": [],
   "source": [
    "#Model 1:Building a better model with non-linearity\n",
    "#Create a model with non-linear and linear layers\n",
    "\n",
    "from torch import nn\n",
    "class FashionMNISTModelV1(nn.Module):\n",
    "    def __init__(self,input_shape:int,\n",
    "                 hidden_units:int,\n",
    "                 output_shape:int):\n",
    "        super().__init__()\n",
    "        self.layer_stack=nn.Sequential(\n",
    "            nn.Flatten(), #flatten inputs into single vector.\n",
    "            nn.Linear(in_features=input_shape,out_features=hidden_units),\n",
    "            nn.ReLU(),\n",
    "            nn.Linear(in_features=hidden_units,out_features=output_shape),\n",
    "            nn.ReLU()\n",
    "        )\n",
    "    \n",
    "    def forward(self,x:torch.Tensor):\n",
    "        return self.layer_stack(x)\n"
   ]
  },
  {
   "cell_type": "code",
   "execution_count": 58,
   "metadata": {},
   "outputs": [
    {
     "data": {
      "text/plain": [
       "FashionMNISTModelV1(\n",
       "  (layer_stack): Sequential(\n",
       "    (0): Flatten(start_dim=1, end_dim=-1)\n",
       "    (1): Linear(in_features=784, out_features=10, bias=True)\n",
       "    (2): ReLU()\n",
       "    (3): Linear(in_features=10, out_features=10, bias=True)\n",
       "    (4): ReLU()\n",
       "  )\n",
       ")"
      ]
     },
     "execution_count": 58,
     "metadata": {},
     "output_type": "execute_result"
    }
   ],
   "source": [
    "torch.manual_seed(42)\n",
    "model_1=FashionMNISTModelV1(input_shape=784,hidden_units=10,output_shape=len(class_name)).to(device)\n",
    "model_1"
   ]
  },
  {
   "cell_type": "code",
   "execution_count": 59,
   "metadata": {},
   "outputs": [],
   "source": [
    "#Setup loss,optimizer,and evaluation metrices\n",
    "from helper_function import accuracy_fn\n",
    "loss_fn=nn.CrossEntropyLoss() #Measure how wrong our model is\n",
    "optimizer=torch.optim.SGD(params=model_1.parameters(),lr=0.1) #tries to update our model's parameters to reduce the loss\n"
   ]
  },
  {
   "cell_type": "code",
   "execution_count": 60,
   "metadata": {},
   "outputs": [],
   "source": [
    "def train_step(model:torch.nn.Module,\n",
    "               data_loader:torch.utils.data.DataLoader,\n",
    "               loss_fn:torch.nn.Module,\n",
    "               optimizer:torch.optim.Optimizer,\n",
    "               accuracy_fn,\n",
    "               device:torch.device=device):\n",
    "    '''Perform a training with model trying to learn from the dataloader'''\n",
    "    \n",
    "    train_loss,train_acc=0,0\n",
    "    #put model into training mode\n",
    "    model.train()\n",
    "    \n",
    "    #Add a loop to loop through the training batches\n",
    "    for batch,(X,y) in enumerate(data_loader):\n",
    "        #put data to traget devie\n",
    "        X.to(device),y.to(device)\n",
    "        \n",
    "        #1.Forward pass (output the raw logits from the model)\n",
    "        y_pred=model(X)\n",
    "        \n",
    "        #2.Calculate the loss and accuracy(per batch)\n",
    "        loss=loss_fn(y_pred,y)\n",
    "        train_loss +=loss #accumulate the train loss\n",
    "        train_acc +=accuracy_fn(y_true=y,y_pred=y_pred.argmax(dim=1))\n",
    "        \n",
    "        #Optimizer zero grads\n",
    "        optimizer.zero_grad()\n",
    "        \n",
    "        #Loss Backward\n",
    "        loss.backward()\n",
    "        \n",
    "        #optimizer step (update the model's parameters once per batch)\n",
    "        optimizer.step()\n",
    "        \n",
    "        #Devide total train loss and acc by length of train dataloader\n",
    "    train_loss /=len(data_loader)\n",
    "    train_acc /=len(data_loader)\n",
    "    print(f\"Train loss:{train_loss:.5f} Train accuracyt:{train_acc:.2f}%\")     "
   ]
  },
  {
   "cell_type": "code",
   "execution_count": 61,
   "metadata": {},
   "outputs": [],
   "source": [
    "def test_step(model:torch.nn.Module,\n",
    "              data_loader:torch.utils.data.DataLoader,\n",
    "              loss_fn:torch.nn.Module,\n",
    "              accuracy_fn,\n",
    "              device:torch.device=device):\n",
    "    \"\"\"Performs a testing loop step on model going over data_loader.\"\"\"\n",
    "    test_loss,test_acc=0,0\n",
    "    \n",
    "    #put the data in eval model\n",
    "    model.eval()\n",
    "    \n",
    "    #Turn on inference mode context manager\n",
    "    with torch.inference_mode():\n",
    "        for X_test,y_test in data_loader:\n",
    "            \n",
    "            #send the data to the target device\n",
    "            X_test=X_test.to(device)\n",
    "            y_test=y_test.to(device)\n",
    "            \n",
    "            #1.Forward pass (outputs raw logits)\n",
    "            test_pred=model(X_test)\n",
    "            \n",
    "            #2.Calculate the loss\n",
    "            loss=loss_fn(test_pred,y_test)\n",
    "            test_loss+=loss\n",
    "            \n",
    "            #3.Calculate the accuracy\n",
    "            test_acc+=accuracy_fn(y_true=y_test,y_pred=test_pred.argmax(dim=1)) #go from logits----->prediction labels\n",
    "            \n",
    "            \n",
    "        #Calculate the test loss average per batch\n",
    "        test_loss /=len(test_dataloader)\n",
    "        \n",
    "        #Calculate the test accuracy average per batch\n",
    "        test_acc /=len(test_dataloader)\n",
    "    print(f\"Tesing loss:{test_loss:.4f} Testing accuracy:{test_acc:.2f}%\\n\")"
   ]
  },
  {
   "cell_type": "code",
   "execution_count": 145,
   "metadata": {},
   "outputs": [
    {
     "name": "stderr",
     "output_type": "stream",
     "text": [
      "  0%|          | 0/2 [00:00<?, ?it/s]"
     ]
    },
    {
     "name": "stdout",
     "output_type": "stream",
     "text": [
      "Epoch:0\n",
      "------------\n",
      "Train loss:0.68752 Train accuracyt:75.19%\n"
     ]
    },
    {
     "name": "stderr",
     "output_type": "stream",
     "text": [
      " 50%|█████     | 1/2 [00:04<00:04,  4.70s/it]"
     ]
    },
    {
     "name": "stdout",
     "output_type": "stream",
     "text": [
      "Tesing loss:0.7223 Testing accuracy:73.91%\n",
      "\n",
      "Epoch:1\n",
      "------------\n",
      "Train loss:0.68752 Train accuracyt:75.19%\n"
     ]
    },
    {
     "name": "stderr",
     "output_type": "stream",
     "text": [
      "100%|██████████| 2/2 [00:08<00:00,  4.43s/it]"
     ]
    },
    {
     "name": "stdout",
     "output_type": "stream",
     "text": [
      "Tesing loss:0.7223 Testing accuracy:73.91%\n",
      "\n",
      "Train time on :cpu:8.871 seconds\n"
     ]
    },
    {
     "name": "stderr",
     "output_type": "stream",
     "text": [
      "\n"
     ]
    }
   ],
   "source": [
    "torch.manual_seed(42)\n",
    "\n",
    "#Measure time\n",
    "from timeit import default_timer as timer\n",
    "train_time_start_on_cpu=timer()\n",
    "\n",
    "#set Epochs\n",
    "Epochs=2\n",
    "\n",
    "#create an optimization and evaluation loop using train_step() and test_step()\n",
    "for epoch in tqdm(range(Epochs)):\n",
    "    print(f\"Epoch:{epoch}\\n------------\")\n",
    "    train_step(model=model_1,\n",
    "               data_loader=train_dataloader,\n",
    "               loss_fn=loss_fn,\n",
    "               optimizer=optimizer,\n",
    "               accuracy_fn=accuracy_fn,\n",
    "               device=device)\n",
    "    test_step(model=model_1,\n",
    "              data_loader=test_dataloader,\n",
    "              loss_fn=loss_fn,\n",
    "              accuracy_fn=accuracy_fn,\n",
    "              device=device)\n",
    "    \n",
    "train_time_end_on_cpu=timer()\n",
    "total_train_time_model_1=print_train_time(start=train_time_start_on_cpu,\n",
    "                                          end=train_time_end_on_cpu,\n",
    "                                          device=device)\n",
    "\n"
   ]
  },
  {
   "cell_type": "code",
   "execution_count": null,
   "metadata": {},
   "outputs": [],
   "source": []
  },
  {
   "cell_type": "code",
   "execution_count": 63,
   "metadata": {},
   "outputs": [
    {
     "data": {
      "text/plain": [
       "{'model_name': 'FashionMNISTModelV0',\n",
       " 'model_loss': 0.4798900783061981,\n",
       " 'moel_acc': 83.19688498402556}"
      ]
     },
     "execution_count": 63,
     "metadata": {},
     "output_type": "execute_result"
    }
   ],
   "source": [
    "model_0_result"
   ]
  },
  {
   "cell_type": "code",
   "execution_count": 64,
   "metadata": {},
   "outputs": [
    {
     "name": "stderr",
     "output_type": "stream",
     "text": [
      "100%|██████████| 313/313 [00:02<00:00, 134.20it/s]\n"
     ]
    },
    {
     "data": {
      "text/plain": [
       "{'model_name': 'FashionMNISTModelV1',\n",
       " 'model_loss': 0.7222671508789062,\n",
       " 'moel_acc': 73.91174121405751}"
      ]
     },
     "execution_count": 64,
     "metadata": {},
     "output_type": "execute_result"
    }
   ],
   "source": [
    "model_1_result=eval_model(model=model_1,\n",
    "                          data_loader=test_dataloader,\n",
    "                          loss_fn=loss_fn,\n",
    "                          accuracy_fn=accuracy_fn)\n",
    "model_1_result"
   ]
  },
  {
   "cell_type": "code",
   "execution_count": 65,
   "metadata": {},
   "outputs": [],
   "source": [
    "#Model2:Building a convolutional Neural Network(CNN)\n",
    "#CNN's are also known ConvNets.\n",
    "#CNN's are known for there capabilities to find patterns in visual data"
   ]
  },
  {
   "cell_type": "code",
   "execution_count": 128,
   "metadata": {},
   "outputs": [],
   "source": [
    "#Create a Convolutional neural network\n",
    "class FashionMNISTModelV2(nn.Module):\n",
    "    def __init__(self,input_shape:int,hidden_shape:int,output_shape=int):\n",
    "        super().__init__()\n",
    "        self.conv_block_1=nn.Sequential(\n",
    "            nn.Conv2d(in_channels=input_shape,\n",
    "                        out_channels=hidden_shape,\n",
    "                        kernel_size=3,\n",
    "                        stride=1,\n",
    "                        padding=1),\n",
    "            nn.ReLU(),\n",
    "            \n",
    "            nn.Conv2d(in_channels=hidden_shape,\n",
    "                      out_channels=hidden_shape,\n",
    "                      kernel_size=3,\n",
    "                      stride=1,\n",
    "                      padding=1),\n",
    "            nn.MaxPool2d(kernel_size=2)\n",
    "        )\n",
    "        \n",
    "        self.conv_block_2=nn.Sequential(\n",
    "            nn.Conv2d(in_channels=hidden_shape,\n",
    "                      out_channels=hidden_shape,\n",
    "                      kernel_size=3,\n",
    "                      stride=1,\n",
    "                      padding=1),\n",
    "            nn.ReLU(),\n",
    "            \n",
    "            nn.Conv2d(in_channels=hidden_shape,\n",
    "                      out_channels=hidden_shape,\n",
    "                      kernel_size=3,\n",
    "                      stride=1,\n",
    "                      padding=1),\n",
    "            nn.MaxPool2d(kernel_size=2)\n",
    "        )\n",
    "        \n",
    "        self.classifier=nn.Sequential(\n",
    "            nn.Flatten(),\n",
    "            nn.Linear(in_features=hidden_shape*7*7, #there is a trick to calculate this...........!\n",
    "                      out_features=output_shape)\n",
    "        )\n",
    "    \n",
    "    def forward(self,x):\n",
    "        x=self.conv_block_1(x)\n",
    "        #print(f\"output shape of conv_block_1: {x.shape}\")\n",
    "        x=self.conv_block_2(x)\n",
    "        #print(f\"output shape of conv_block_2: {x.shape}\")\n",
    "        x=self.classifier(x)\n",
    "        #print(f\"output shape of classifier: {x.shape}\")\n",
    "        return x\n",
    "            \n",
    "        \n"
   ]
  },
  {
   "cell_type": "code",
   "execution_count": 129,
   "metadata": {},
   "outputs": [],
   "source": [
    "model_2=FashionMNISTModelV2(input_shape=1,\n",
    "                            hidden_shape=10,\n",
    "                            output_shape=len(class_name)).to(device)"
   ]
  },
  {
   "cell_type": "code",
   "execution_count": 119,
   "metadata": {},
   "outputs": [
    {
     "data": {
      "text/plain": [
       "torch.Size([1, 28, 28])"
      ]
     },
     "execution_count": 119,
     "metadata": {},
     "output_type": "execute_result"
    }
   ],
   "source": [
    "rand_image_tensor=torch.randn(size=(1,28,28))\n",
    "rand_image_tensor.shape"
   ]
  },
  {
   "cell_type": "code",
   "execution_count": 120,
   "metadata": {},
   "outputs": [
    {
     "name": "stdout",
     "output_type": "stream",
     "text": [
      "output shape of conv_block_1: torch.Size([1, 10, 14, 14])\n",
      "output shape of conv_block_2: torch.Size([1, 10, 7, 7])\n",
      "output shape of classifier: torch.Size([1, 10])\n"
     ]
    },
    {
     "data": {
      "text/plain": [
       "tensor([[-0.0290,  0.0182,  0.0197, -0.1016, -0.0628,  0.0692,  0.1020,  0.0743,\n",
       "          0.0469, -0.0586]], grad_fn=<AddmmBackward0>)"
      ]
     },
     "execution_count": 120,
     "metadata": {},
     "output_type": "execute_result"
    }
   ],
   "source": [
    "model_2(rand_image_tensor.unsqueeze(0).to(device))"
   ]
  },
  {
   "cell_type": "code",
   "execution_count": 108,
   "metadata": {},
   "outputs": [
    {
     "data": {
      "text/plain": [
       "<matplotlib.image.AxesImage at 0x7f2c5bff2c70>"
      ]
     },
     "execution_count": 108,
     "metadata": {},
     "output_type": "execute_result"
    },
    {
     "data": {
      "image/png": "[encoded data removed]",
      "text/plain": [
       "<Figure size 640x480 with 1 Axes>"
      ]
     },
     "metadata": {},
     "output_type": "display_data"
    }
   ],
   "source": [
    "plt.imshow(image.squeeze(0),cmap=\"gray\")"
   ]
  },
  {
   "cell_type": "code",
   "execution_count": 68,
   "metadata": {},
   "outputs": [
    {
     "name": "stdout",
     "output_type": "stream",
     "text": [
      "image batch shape:torch.Size([32, 3, 64, 64])\n",
      "Single image shape:torch.Size([3, 64, 64])\n"
     ]
    }
   ],
   "source": [
    "#stepping through nn.Conv2d()\n",
    "torch.manual_seed(42)\n",
    "#create a batch of images\n",
    "\n",
    "images=torch.rand(size=(32,3,64,64))\n",
    "test_image=images[0]\n",
    "print(f\"image batch shape:{images.shape}\")\n",
    "print(f\"Single image shape:{test_image.shape}\")\n",
    "                  "
   ]
  },
  {
   "cell_type": "code",
   "execution_count": null,
   "metadata": {},
   "outputs": [],
   "source": []
  },
  {
   "cell_type": "code",
   "execution_count": 69,
   "metadata": {},
   "outputs": [
    {
     "data": {
      "text/plain": [
       "torch.Size([10, 64, 64])"
      ]
     },
     "execution_count": 69,
     "metadata": {},
     "output_type": "execute_result"
    }
   ],
   "source": [
    "torch.manual_seed(42)\n",
    "#Create a single conv2d layer\n",
    "\n",
    "conv_layer=nn.Conv2d(in_channels=3,\n",
    "                     out_channels=10,\n",
    "                     kernel_size=(3,3),\n",
    "                     stride=1,\n",
    "                     padding=1)\n",
    "#Pass the data through  the convolutational layer\n",
    "conv_output=conv_layer(test_image)\n",
    "conv_output.shape"
   ]
  },
  {
   "cell_type": "code",
   "execution_count": 70,
   "metadata": {},
   "outputs": [
    {
     "name": "stdout",
     "output_type": "stream",
     "text": [
      "Test image original shape:torch.Size([3, 64, 64])\n",
      "Test image with unsqueezed dimension::torch.Size([1, 3, 64, 64])\n",
      "Shape after going through conv_layer():torch.Size([10, 64, 64])\n",
      "Shape after going through conv_layer() and max_pool_layer():torch.Size([10, 32, 32])\n"
     ]
    }
   ],
   "source": [
    "#stepping through nn.MaxPool2d()\n",
    "#print out original image shape without unsqueezed dimension\n",
    "print(f\"Test image original shape:{test_image.shape}\")\n",
    "print(f\"Test image with unsqueezed dimension::{test_image.unsqueeze(0).shape}\") \n",
    "\n",
    "#create a simple nn.MaxPool2d layer\n",
    "max_pool_layer=nn.MaxPool2d(kernel_size=2)\n",
    "\n",
    "#pass data through conv_layer\n",
    "test_image_through_conv=conv_layer(test_image)\n",
    "print(f\"Shape after going through conv_layer():{test_image_through_conv.shape}\")\n",
    "\n",
    "#pass data through the maxpool layer\n",
    "test_image_through_conv_and_max_pool=max_pool_layer(test_image_through_conv)\n",
    "print(f\"Shape after going through conv_layer() and max_pool_layer():{test_image_through_conv_and_max_pool.shape}\")"
   ]
  },
  {
   "cell_type": "code",
   "execution_count": 71,
   "metadata": {},
   "outputs": [
    {
     "name": "stdout",
     "output_type": "stream",
     "text": [
      "\n",
      "Random tensor\n",
      ":tensor([[[[0.3367, 0.1288],\n",
      "          [0.2345, 0.2303]]]])\n",
      "Shape of random tensor:torch.Size([1, 1, 2, 2])\n",
      "\n",
      " Max pool tensor\n",
      ":tensor([[[[0.3367]]]])\n",
      "Shape of maxpool tensor:torch.Size([1, 1, 1, 1])\n"
     ]
    }
   ],
   "source": [
    "torch.manual_seed(42)\n",
    "random_tensor=torch.randn(size=(1,1,2,2))\n",
    "print(f\"\\nRandom tensor\\n:{random_tensor}\")\n",
    "print(f\"Shape of random tensor:{random_tensor.shape}\")\n",
    "max_pool_layer=nn.MaxPool2d(kernel_size=2)\n",
    "#Pass the random_tensor to max_pool layer\n",
    "max_pool_tensor=max_pool_layer(random_tensor)\n",
    "print(f\"\\n Max pool tensor\\n:{max_pool_tensor}\")\n",
    "print(f\"Shape of maxpool tensor:{max_pool_tensor.shape}\")"
   ]
  },
  {
   "cell_type": "code",
   "execution_count": 130,
   "metadata": {},
   "outputs": [],
   "source": [
    "#Setup a loss function for model_2\n",
    "from helper_function import accuracy_fn\n",
    "loss_fn=nn.CrossEntropyLoss()\n",
    "optimizer=torch.optim.SGD(params=model_2.parameters(),lr=0.1)"
   ]
  },
  {
   "cell_type": "code",
   "execution_count": null,
   "metadata": {},
   "outputs": [],
   "source": [
    "train_step(model=model_2,\n",
    "           data_loader=train_dataloader,\n",
    "           loss_fn=loss_fn,\n",
    "           optimizer=optimizer,\n",
    "           accuracy_fn=accuracy_fn,\n",
    "           device=device)\n"
   ]
  },
  {
   "cell_type": "code",
   "execution_count": 144,
   "metadata": {},
   "outputs": [
    {
     "name": "stderr",
     "output_type": "stream",
     "text": [
      "  0%|          | 0/2 [00:00<?, ?it/s]"
     ]
    },
    {
     "name": "stdout",
     "output_type": "stream",
     "text": [
      "Epoch:0\n",
      "------------\n",
      "Train loss:0.29624 Train accuracyt:89.29%\n"
     ]
    },
    {
     "name": "stderr",
     "output_type": "stream",
     "text": [
      " 50%|█████     | 1/2 [00:13<00:13, 13.15s/it]"
     ]
    },
    {
     "name": "stdout",
     "output_type": "stream",
     "text": [
      "Tesing loss:0.3003 Testing accuracy:89.12%\n",
      "\n",
      "Epoch:1\n",
      "------------\n",
      "Train loss:0.27624 Train accuracyt:89.97%\n"
     ]
    },
    {
     "name": "stderr",
     "output_type": "stream",
     "text": [
      "100%|██████████| 2/2 [00:27<00:00, 13.72s/it]"
     ]
    },
    {
     "name": "stdout",
     "output_type": "stream",
     "text": [
      "Tesing loss:0.2904 Testing accuracy:89.33%\n",
      "\n",
      "Train time on :cpu:27.448 seconds\n"
     ]
    },
    {
     "name": "stderr",
     "output_type": "stream",
     "text": [
      "\n"
     ]
    }
   ],
   "source": [
    "torch.manual_seed(42)\n",
    "\n",
    "#Measure time\n",
    "from timeit import default_timer as timer\n",
    "train_time_start_on_cpu=timer()\n",
    "\n",
    "#set Epochs\n",
    "Epochs=2\n",
    "\n",
    "#create an optimization and evaluation loop using train_step() and test_step()\n",
    "for epoch in tqdm(range(Epochs)):\n",
    "    print(f\"Epoch:{epoch}\\n------------\")\n",
    "    train_step(model=model_2,\n",
    "               data_loader=train_dataloader,\n",
    "               loss_fn=loss_fn,\n",
    "               optimizer=optimizer,\n",
    "               accuracy_fn=accuracy_fn,\n",
    "               device=device)\n",
    "    test_step(model=model_2,\n",
    "              data_loader=test_dataloader,\n",
    "              loss_fn=loss_fn,\n",
    "              accuracy_fn=accuracy_fn,\n",
    "              device=device)\n",
    "    \n",
    "train_time_end_on_cpu=timer()\n",
    "total_train_time_model_2=print_train_time(start=train_time_start_on_cpu,\n",
    "                                          end=train_time_end_on_cpu,\n",
    "                                          device=device)\n"
   ]
  },
  {
   "cell_type": "code",
   "execution_count": 133,
   "metadata": {},
   "outputs": [
    {
     "name": "stderr",
     "output_type": "stream",
     "text": [
      "100%|██████████| 313/313 [00:01<00:00, 269.38it/s]\n"
     ]
    },
    {
     "data": {
      "text/plain": [
       "{'model_name': 'FashionMNISTModelV2',\n",
       " 'model_loss': 0.3279045522212982,\n",
       " 'moel_acc': 88.4285143769968}"
      ]
     },
     "execution_count": 133,
     "metadata": {},
     "output_type": "execute_result"
    }
   ],
   "source": [
    "model_2_result=eval_model(model=model_2,\n",
    "                          data_loader=test_dataloader,\n",
    "                          loss_fn=loss_fn,\n",
    "                          accuracy_fn=accuracy_fn)\n",
    "model_2_result"
   ]
  },
  {
   "cell_type": "code",
   "execution_count": 134,
   "metadata": {},
   "outputs": [
    {
     "data": {
      "text/plain": [
       "{'model_name': 'FashionMNISTModelV0',\n",
       " 'model_loss': 0.4798900783061981,\n",
       " 'moel_acc': 83.19688498402556}"
      ]
     },
     "execution_count": 134,
     "metadata": {},
     "output_type": "execute_result"
    }
   ],
   "source": [
    "model_0_result"
   ]
  },
  {
   "cell_type": "code",
   "execution_count": 135,
   "metadata": {},
   "outputs": [
    {
     "data": {
      "text/plain": [
       "{'model_name': 'FashionMNISTModelV1',\n",
       " 'model_loss': 0.7222671508789062,\n",
       " 'moel_acc': 73.91174121405751}"
      ]
     },
     "execution_count": 135,
     "metadata": {},
     "output_type": "execute_result"
    }
   ],
   "source": [
    "model_1_result"
   ]
  },
  {
   "cell_type": "code",
   "execution_count": 147,
   "metadata": {},
   "outputs": [
    {
     "data": {
      "text/html": [
       "<div>\n",
       "<style scoped>\n",
       "    .dataframe tbody tr th:only-of-type {\n",
       "        vertical-align: middle;\n",
       "    }\n",
       "\n",
       "    .dataframe tbody tr th {\n",
       "        vertical-align: top;\n",
       "    }\n",
       "\n",
       "    .dataframe thead th {\n",
       "        text-align: right;\n",
       "    }\n",
       "</style>\n",
       "<table border=\"1\" class=\"dataframe\">\n",
       "  <thead>\n",
       "    <tr style=\"text-align: right;\">\n",
       "      <th></th>\n",
       "      <th>model_name</th>\n",
       "      <th>model_loss</th>\n",
       "      <th>moel_acc</th>\n",
       "    </tr>\n",
       "  </thead>\n",
       "  <tbody>\n",
       "    <tr>\n",
       "      <th>0</th>\n",
       "      <td>FashionMNISTModelV0</td>\n",
       "      <td>0.479890</td>\n",
       "      <td>83.196885</td>\n",
       "    </tr>\n",
       "    <tr>\n",
       "      <th>1</th>\n",
       "      <td>FashionMNISTModelV1</td>\n",
       "      <td>0.722267</td>\n",
       "      <td>73.911741</td>\n",
       "    </tr>\n",
       "    <tr>\n",
       "      <th>2</th>\n",
       "      <td>FashionMNISTModelV2</td>\n",
       "      <td>0.327905</td>\n",
       "      <td>88.428514</td>\n",
       "    </tr>\n",
       "  </tbody>\n",
       "</table>\n",
       "</div>"
      ],
      "text/plain": [
       "            model_name  model_loss   moel_acc\n",
       "0  FashionMNISTModelV0    0.479890  83.196885\n",
       "1  FashionMNISTModelV1    0.722267  73.911741\n",
       "2  FashionMNISTModelV2    0.327905  88.428514"
      ]
     },
     "execution_count": 147,
     "metadata": {},
     "output_type": "execute_result"
    }
   ],
   "source": [
    "#Compare model results and training time\n",
    "import pandas as pd\n",
    "compare_results=pd.DataFrame([model_0_result,\n",
    "                              model_1_result,\n",
    "                              model_2_result])\n",
    "compare_results"
   ]
  },
  {
   "cell_type": "code",
   "execution_count": 148,
   "metadata": {},
   "outputs": [
    {
     "data": {
      "text/html": [
       "<div>\n",
       "<style scoped>\n",
       "    .dataframe tbody tr th:only-of-type {\n",
       "        vertical-align: middle;\n",
       "    }\n",
       "\n",
       "    .dataframe tbody tr th {\n",
       "        vertical-align: top;\n",
       "    }\n",
       "\n",
       "    .dataframe thead th {\n",
       "        text-align: right;\n",
       "    }\n",
       "</style>\n",
       "<table border=\"1\" class=\"dataframe\">\n",
       "  <thead>\n",
       "    <tr style=\"text-align: right;\">\n",
       "      <th></th>\n",
       "      <th>model_name</th>\n",
       "      <th>model_loss</th>\n",
       "      <th>moel_acc</th>\n",
       "      <th>Training Time</th>\n",
       "    </tr>\n",
       "  </thead>\n",
       "  <tbody>\n",
       "    <tr>\n",
       "      <th>0</th>\n",
       "      <td>FashionMNISTModelV0</td>\n",
       "      <td>0.479890</td>\n",
       "      <td>83.196885</td>\n",
       "      <td>38.780318</td>\n",
       "    </tr>\n",
       "    <tr>\n",
       "      <th>1</th>\n",
       "      <td>FashionMNISTModelV1</td>\n",
       "      <td>0.722267</td>\n",
       "      <td>73.911741</td>\n",
       "      <td>8.871120</td>\n",
       "    </tr>\n",
       "    <tr>\n",
       "      <th>2</th>\n",
       "      <td>FashionMNISTModelV2</td>\n",
       "      <td>0.327905</td>\n",
       "      <td>88.428514</td>\n",
       "      <td>27.448307</td>\n",
       "    </tr>\n",
       "  </tbody>\n",
       "</table>\n",
       "</div>"
      ],
      "text/plain": [
       "            model_name  model_loss   moel_acc  Training Time\n",
       "0  FashionMNISTModelV0    0.479890  83.196885      38.780318\n",
       "1  FashionMNISTModelV1    0.722267  73.911741       8.871120\n",
       "2  FashionMNISTModelV2    0.327905  88.428514      27.448307"
      ]
     },
     "execution_count": 148,
     "metadata": {},
     "output_type": "execute_result"
    }
   ],
   "source": [
    "compare_results[\"Training Time\"]=[total_train_time_model_0,\n",
    "                                  total_train_time_model_1,\n",
    "                                  total_train_time_model_2]\n",
    "compare_results"
   ]
  },
  {
   "cell_type": "code",
   "execution_count": 151,
   "metadata": {},
   "outputs": [
    {
     "data": {
      "text/plain": [
       "Text(0, 0.5, 'model')"
      ]
     },
     "execution_count": 151,
     "metadata": {},
     "output_type": "execute_result"
    },
    {
     "data": {
      "image/png": "[encoded data removed]",
      "text/plain": [
       "<Figure size 640x480 with 1 Axes>"
      ]
     },
     "metadata": {},
     "output_type": "display_data"
    }
   ],
   "source": [
    "#Visualize our model results\n",
    "compare_results.set_index(\"model_name\")[\"moel_acc\"].plot(kind=\"barh\")\n",
    "plt.xlabel(\"accuracy(%)\")\n",
    "plt.ylabel(\"model\")"
   ]
  },
  {
   "cell_type": "code",
   "execution_count": 152,
   "metadata": {},
   "outputs": [],
   "source": [
    "#Make and Evaluate random predictions with best model"
   ]
  },
  {
   "cell_type": "code",
   "execution_count": 154,
   "metadata": {},
   "outputs": [],
   "source": [
    "def make_predictions(model:torch.nn.Module,\n",
    "                     data:list,\n",
    "                     device:torch.device=device):\n",
    "    pred_probs=[]\n",
    "    model.to(device)\n",
    "    model.eval()\n",
    "    with torch.inference_mode():\n",
    "        for sample in data:\n",
    "            #Prepare the sample(add a batch dimension and pass to target device)\n",
    "            sample=torch.unsqueeze(sample,dim=0).to(device)\n",
    "            \n",
    "            #Forward pass (model outputs logits)\n",
    "            pred_logit=model(sample)\n",
    "            \n",
    "            #Get prediction probability (logit->prediction probability)\n",
    "            pred_prob=torch.softmax(pred_logit.squeeze(),dim=0)\n",
    "            \n",
    "            \n",
    "            #Get pred_porb off of GPU for further calculations \n",
    "            pred_probs.append(pred_prob.cpu())\n",
    "            \n",
    "    #stack the pred_probs to turn list to tensor\n",
    "    return torch.stack(pred_probs)\n",
    "            \n",
    "            "
   ]
  },
  {
   "cell_type": "code",
   "execution_count": 157,
   "metadata": {},
   "outputs": [
    {
     "data": {
      "text/plain": [
       "torch.Size([1, 28, 28])"
      ]
     },
     "execution_count": 157,
     "metadata": {},
     "output_type": "execute_result"
    }
   ],
   "source": [
    "import random\n",
    "random.seed(42)\n",
    "test_samples=[]\n",
    "test_labels=[]\n",
    "\n",
    "for sample,label in random.sample(list(test_data),k=9):\n",
    "    test_samples.append(sample)\n",
    "    test_labels.append(label)\n",
    "   \n",
    "#View the first sample \n",
    "test_samples[0].shape"
   ]
  },
  {
   "cell_type": "code",
   "execution_count": 163,
   "metadata": {},
   "outputs": [
    {
     "data": {
      "text/plain": [
       "(-0.5, 27.5, 27.5, -0.5)"
      ]
     },
     "execution_count": 163,
     "metadata": {},
     "output_type": "execute_result"
    },
    {
     "data": {
      "image/png": "[encoded data removed]",
      "text/plain": [
       "<Figure size 640x480 with 1 Axes>"
      ]
     },
     "metadata": {},
     "output_type": "display_data"
    }
   ],
   "source": [
    "plt.imshow(test_samples[0].squeeze(0),cmap=\"gray\")\n",
    "plt.title(class_name[test_labels[0]])\n",
    "plt.axis(False)"
   ]
  },
  {
   "cell_type": "code",
   "execution_count": 168,
   "metadata": {},
   "outputs": [
    {
     "data": {
      "text/plain": [
       "tensor([[1.6023e-08, 5.2765e-09, 1.7971e-08, 3.0419e-09, 1.9903e-08, 9.9994e-01,\n",
       "         7.2001e-08, 1.4467e-06, 4.8690e-06, 5.7390e-05],\n",
       "        [4.9613e-02, 5.9018e-01, 1.5951e-03, 3.2028e-01, 6.8016e-03, 1.0227e-04,\n",
       "         3.0905e-02, 9.5542e-05, 1.1035e-04, 3.1536e-04]])"
      ]
     },
     "execution_count": 168,
     "metadata": {},
     "output_type": "execute_result"
    }
   ],
   "source": [
    "#Make predictions\n",
    "pred_probs=make_predictions(model=model_2,\n",
    "                            data=test_samples)\n",
    "#view first two prediction probabilities\n",
    "pred_probs[:2]"
   ]
  },
  {
   "cell_type": "code",
   "execution_count": 173,
   "metadata": {},
   "outputs": [
    {
     "data": {
      "text/plain": [
       "tensor([5, 1, 7, 4, 3, 0, 4, 7, 1])"
      ]
     },
     "execution_count": 173,
     "metadata": {},
     "output_type": "execute_result"
    }
   ],
   "source": [
    "pred_classes=pred_probs.argmax(dim=1)\n",
    "pred_classes"
   ]
  },
  {
   "cell_type": "code",
   "execution_count": 167,
   "metadata": {},
   "outputs": [
    {
     "data": {
      "text/plain": [
       "[5, 1, 7, 4, 3, 0, 4, 7, 1]"
      ]
     },
     "execution_count": 167,
     "metadata": {},
     "output_type": "execute_result"
    }
   ],
   "source": [
    "test_labels"
   ]
  },
  {
   "cell_type": "code",
   "execution_count": 176,
   "metadata": {},
   "outputs": [
    {
     "data": {
      "image/png": "[encoded data removed]",
      "text/plain": [
       "<Figure size 900x900 with 9 Axes>"
      ]
     },
     "metadata": {},
     "output_type": "display_data"
    }
   ],
   "source": [
    "#Plot predictions\n",
    "plt.figure(figsize=(9,9))\n",
    "nrows=3\n",
    "ncols=3\n",
    "\n",
    "for i,sample in enumerate(test_samples):\n",
    "    #create sub plots\n",
    "    plt.subplot(nrows,ncols,i+1)\n",
    "    \n",
    "    #plot tje image\n",
    "    plt.imshow(sample.squeeze(0),cmap=\"gray\")\n",
    "    \n",
    "    #Find the predictions(in text form, eg:Sandle)\n",
    "    pred_label=class_name[pred_classes[i]]\n",
    "    \n",
    "    #Find the truth label(in text form)\n",
    "    truth_label=class_name[test_labels[i]]\n",
    "    \n",
    "    #Create the title for the plot\n",
    "    title_text=f\"Pred:{pred_label}| Truth:{truth_label}\"\n",
    "    \n",
    "    #Check for equality between pred and Truth and change the color of the title\n",
    "    if pred_label==truth_label:\n",
    "        plt.title(title_text,fontsize=10,c='g') #green text if prediction is same as truth\n",
    "    else:\n",
    "        plt.title(title_text,fontsize=10,c=\"r\")\n",
    "    plt.axis(False)\n"
   ]
  },
  {
   "cell_type": "code",
   "execution_count": 177,
   "metadata": {},
   "outputs": [],
   "source": [
    "#Making Confusion matrix for future prediction evaluation\n",
    "#A confusion matrix is a fantastic way of evaluating your classification models visually:\n",
    " \n",
    "#1.Make predictions with out trained model on the test dataset\n",
    "#2.Make a confusion matrix torchmetrics.ConfusionMatrix\n",
    "#3.Plot the confusion matrix using mlxtend.plotting.plot_confusion_matrix()\n"
   ]
  },
  {
   "cell_type": "code",
   "execution_count": 179,
   "metadata": {},
   "outputs": [
    {
     "name": "stderr",
     "output_type": "stream",
     "text": [
      "Making predictions.............. : 100%|██████████| 313/313 [00:03<00:00, 80.08it/s]\n"
     ]
    },
    {
     "data": {
      "text/plain": [
       "tensor([9, 2, 1,  ..., 8, 1, 0])"
      ]
     },
     "execution_count": 179,
     "metadata": {},
     "output_type": "execute_result"
    }
   ],
   "source": [
    "#Import tqdm.auto\n",
    "from tqdm.auto import tqdm\n",
    "\n",
    "#1.Make predictions with trained model\n",
    "y_preds=[]\n",
    "model_2.eval()\n",
    "with torch.inference_mode():\n",
    "    for X,y in tqdm(test_dataloader,desc=\"Making predictions.............. \"):\n",
    "        #send data and targets to target device\n",
    "        X,y=X.to(device),y.to(device)\n",
    "        #Do the forward pass\n",
    "        y_logits=model_2(X)\n",
    "        #Turn predictions form logits------>prediction probabilities-------->prediction labels\n",
    "        y_pred=torch.softmax(y_logits.squeeze(),dim=0).argmax(dim=1)\n",
    "        #put pridiction on CPU for evalution \n",
    "        y_preds.append(y_pred.cpu())\n",
    "\n",
    "#concatenate list of predictions into a tensor\n",
    "#print(y_preds)\n",
    "y_preds_tensor=torch.cat(y_preds)\n",
    "y_preds_tensor"
   ]
  },
  {
   "cell_type": "code",
   "execution_count": 184,
   "metadata": {},
   "outputs": [
    {
     "name": "stdout",
     "output_type": "stream",
     "text": [
      "mlxtend version:0.21.0\n",
      "mlxtend version:0.21.0\n"
     ]
    }
   ],
   "source": [
    "#see if requierd packages are installed and if not, install them\n",
    "try:\n",
    "    import torchmetrics,mlxtend\n",
    "    print(f\"mlxtend version:{mlxtend.__version__}\")\n",
    "    assert int(mlxtend.__version__.split(\".\")[1]>19,\"mlxtend version should be 0.19 or higher\")\n",
    "except:\n",
    "    !pip install -q torchmetrics -U mlxtend\n",
    "    import torchmetrics,mlxtend\n",
    "    print(f\"mlxtend version:{mlxtend.__version__}\")\n",
    "    "
   ]
  },
  {
   "cell_type": "code",
   "execution_count": 188,
   "metadata": {},
   "outputs": [
    {
     "data": {
      "text/plain": [
       "tensor([[694,   5,  35,  49,  14,   0, 195,   0,   8,   0],\n",
       "        [ 17, 778,   8, 165,  20,   1,   9,   0,   2,   0],\n",
       "        [ 17,   4, 752,  18, 120,   0,  82,   0,   7,   0],\n",
       "        [ 22,   8,  24, 868,  30,   0,  42,   0,   6,   0],\n",
       "        [  6,   4,  68,  44, 785,   0,  91,   0,   2,   0],\n",
       "        [  3,   0,   0,   5,   2, 775,  14, 102,  79,  20],\n",
       "        [ 97,   7,  88,  60, 104,   0, 634,   0,  10,   0],\n",
       "        [  0,   0,   0,   0,   0,  17,   0, 940,   7,  36],\n",
       "        [ 13,   3,   5,  12,  10,   4,  17,   7, 927,   2],\n",
       "        [  0,   0,   0,   0,   2,  32,   5, 107,  20, 834]])"
      ]
     },
     "execution_count": 188,
     "metadata": {},
     "output_type": "execute_result"
    }
   ],
   "source": [
    "from torchmetrics import ConfusionMatrix\n",
    "from mlxtend.plotting import plot_confusion_matrix\n",
    "\n",
    "#2.Setup confusion instance and compare predictions to target\n",
    "confmat=ConfusionMatrix(task=\"multiclass\",num_classes=len(class_name))\n",
    "confmat_tensor=confmat(preds=y_preds_tensor,\n",
    "                       target=test_data.targets)\n",
    "confmat_tensor"
   ]
  },
  {
   "cell_type": "code",
   "execution_count": 189,
   "metadata": {},
   "outputs": [
    {
     "data": {
      "image/png": "[encoded data removed]",
      "text/plain": [
       "<Figure size 1000x700 with 1 Axes>"
      ]
     },
     "metadata": {},
     "output_type": "display_data"
    }
   ],
   "source": [
    "#3 plot the confusion matrix\n",
    "fig, ax=plot_confusion_matrix(\n",
    "    conf_mat=confmat_tensor.numpy(), #matplot likes working with numpy\n",
    "    class_names=class_name,\n",
    "    figsize=(10,7)\n",
    ")"
   ]
  },
  {
   "cell_type": "code",
   "execution_count": 190,
   "metadata": {},
   "outputs": [
    {
     "name": "stdout",
     "output_type": "stream",
     "text": [
      "Saving the model to:models/Computer_vision_01.pth\n"
     ]
    }
   ],
   "source": [
    "#Save and load best performing model\n",
    "from pathlib import Path\n",
    "\n",
    "#Create model dictory path\n",
    "MODEL_PATH=Path(\"models\")\n",
    "MODEL_PATH.mkdir(parents=True,\n",
    "                 exist_ok=True)\n",
    "#Create model save\n",
    "MODEL_NAME=\"Computer_vision_01.pth\"\n",
    "MODEL_SAVE_PATH=MODEL_PATH/MODEL_NAME\n",
    "\n",
    "#Save the model state dict \n",
    "print(f\"Saving the model to:{MODEL_SAVE_PATH}\")\n",
    "torch.save(obj=model_2.state_dict(),\n",
    "           f=MODEL_SAVE_PATH)"
   ]
  },
  {
   "cell_type": "code",
   "execution_count": 192,
   "metadata": {},
   "outputs": [
    {
     "data": {
      "text/plain": [
       "FashionMNISTModelV2(\n",
       "  (conv_block_1): Sequential(\n",
       "    (0): Conv2d(1, 10, kernel_size=(3, 3), stride=(1, 1), padding=(1, 1))\n",
       "    (1): ReLU()\n",
       "    (2): Conv2d(10, 10, kernel_size=(3, 3), stride=(1, 1), padding=(1, 1))\n",
       "    (3): MaxPool2d(kernel_size=2, stride=2, padding=0, dilation=1, ceil_mode=False)\n",
       "  )\n",
       "  (conv_block_2): Sequential(\n",
       "    (0): Conv2d(10, 10, kernel_size=(3, 3), stride=(1, 1), padding=(1, 1))\n",
       "    (1): ReLU()\n",
       "    (2): Conv2d(10, 10, kernel_size=(3, 3), stride=(1, 1), padding=(1, 1))\n",
       "    (3): MaxPool2d(kernel_size=2, stride=2, padding=0, dilation=1, ceil_mode=False)\n",
       "  )\n",
       "  (classifier): Sequential(\n",
       "    (0): Flatten(start_dim=1, end_dim=-1)\n",
       "    (1): Linear(in_features=490, out_features=10, bias=True)\n",
       "  )\n",
       ")"
      ]
     },
     "execution_count": 192,
     "metadata": {},
     "output_type": "execute_result"
    }
   ],
   "source": [
    "#Create new instance\n",
    "torch.manual_seed(42)\n",
    "\n",
    "load_model_2=FashionMNISTModelV2(input_shape=1,\n",
    "                                 hidden_shape=10,\n",
    "                                 output_shape=len(class_name))\n",
    "\n",
    "#Load in the save state_dict()\n",
    "load_model_2.load_state_dict(torch.load(f=MODEL_SAVE_PATH))\n",
    "load_model_2.to(device)"
   ]
  },
  {
   "cell_type": "code",
   "execution_count": 193,
   "metadata": {},
   "outputs": [
    {
     "data": {
      "text/plain": [
       "{'model_name': 'FashionMNISTModelV2',\n",
       " 'model_loss': 0.3279045522212982,\n",
       " 'moel_acc': 88.4285143769968}"
      ]
     },
     "execution_count": 193,
     "metadata": {},
     "output_type": "execute_result"
    }
   ],
   "source": [
    "model_2_result"
   ]
  },
  {
   "cell_type": "code",
   "execution_count": 196,
   "metadata": {},
   "outputs": [
    {
     "name": "stderr",
     "output_type": "stream",
     "text": [
      "100%|██████████| 313/313 [00:01<00:00, 312.43it/s]\n"
     ]
    },
    {
     "data": {
      "text/plain": [
       "{'model_name': 'FashionMNISTModelV2',\n",
       " 'model_loss': 0.2903996706008911,\n",
       " 'moel_acc': 89.3270766773163}"
      ]
     },
     "execution_count": 196,
     "metadata": {},
     "output_type": "execute_result"
    }
   ],
   "source": [
    "#Evaluate loaded model\n",
    "torch.manual_seed(42)\n",
    "load_model_2_result=eval_model(model=load_model_2,\n",
    "                               data_loader=test_dataloader,\n",
    "                               loss_fn=loss_fn,\n",
    "                               accuracy_fn=accuracy_fn\n",
    "                            )\n",
    "load_model_2_result"
   ]
  },
  {
   "cell_type": "code",
   "execution_count": 195,
   "metadata": {},
   "outputs": [
    {
     "data": {
      "text/plain": [
       "tensor(False)"
      ]
     },
     "execution_count": 195,
     "metadata": {},
     "output_type": "execute_result"
    }
   ],
   "source": [
    " #Check if model result are close to each other \n",
    "torch.isclose(torch.tensor(model_2_result[\"model_loss\"]),\n",
    "               torch.tensor(load_model_2_result[\"model_loss\"]))"
   ]
  },
  {
   "cell_type": "code",
   "execution_count": null,
   "metadata": {},
   "outputs": [],
   "source": []
  }
 ],
 "metadata": {
  "kernelspec": {
   "display_name": "base",
   "language": "python",
   "name": "python3"
  },
  "language_info": {
   "codemirror_mode": {
    "name": "ipython",
    "version": 3
   },
   "file_extension": ".py",
   "mimetype": "text/x-python",
   "name": "python",
   "nbconvert_exporter": "python",
   "pygments_lexer": "ipython3",
   "version": "3.9.16"
  },
  "orig_nbformat": 4,
  "vscode": {
   "interpreter": {
    "hash": "befa4fb14bdd5a50838336f7256f70cfedb84861111bf784ce32f4e441f65483"
   }
  }
 },
 "nbformat": 4,
 "nbformat_minor": 2
}
